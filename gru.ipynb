{
  "cells": [
    {
      "cell_type": "markdown",
      "metadata": {
        "id": "view-in-github",
        "colab_type": "text"
      },
      "source": [
        "<a href=\"https://colab.research.google.com/github/tarangar22/ece-gy-7123/blob/main/gru.ipynb\" target=\"_parent\"><img src=\"https://colab.research.google.com/assets/colab-badge.svg\" alt=\"Open In Colab\"/></a>"
      ]
    },
    {
      "cell_type": "code",
      "execution_count": 27,
      "metadata": {
        "colab": {
          "base_uri": "https://localhost:8080/"
        },
        "id": "O1wZQh88qSTY",
        "outputId": "5de8a722-dd19-4076-fae2-d3d55f5e680d"
      },
      "outputs": [
        {
          "output_type": "stream",
          "name": "stdout",
          "text": [
            "Drive already mounted at mount/; to attempt to forcibly remount, call drive.mount(\"mount/\", force_remount=True).\n",
            "cuda:0\n"
          ]
        }
      ],
      "source": [
        "from google.colab import drive\n",
        "import torch\n",
        "\n",
        "drive.mount('mount/')\n",
        "device = torch.device(\"cuda:0\" if (torch.cuda.is_available()) else \"cpu\")\n",
        "print(device)\n",
        "\n",
        "#!git clone https://github.com/soerenab/AudioMNIST"
      ]
    },
    {
      "cell_type": "code",
      "execution_count": 28,
      "metadata": {
        "id": "MatSDcgbqYrx"
      },
      "outputs": [],
      "source": [
        "import os\n",
        "import numpy as np\n",
        "import csv\n",
        "\n",
        "data_path = 'mount/MyDrive/data/'\n",
        "label_path = 'mount/MyDrive/labels.csv'\n",
        "\n",
        "data = [f for f in os.listdir(data_path)]\n",
        "labels = []\n",
        "for i in data:\n",
        "  labels.append(i[0])\n",
        "\n",
        "with open(label_path, 'w') as f:\n",
        "  write = csv.writer(f)\n",
        "  write.writerows(np.vstack((data,labels)).T)\n",
        "f.close()"
      ]
    },
    {
      "cell_type": "code",
      "execution_count": 29,
      "metadata": {
        "colab": {
          "base_uri": "https://localhost:8080/"
        },
        "id": "W9nrYhwrqak4",
        "outputId": "0e2bc4cc-6347-441b-8067-85cb701364ac"
      },
      "outputs": [
        {
          "output_type": "stream",
          "name": "stderr",
          "text": [
            "/usr/local/lib/python3.7/dist-packages/torchaudio/functional/functional.py:595: UserWarning: At least one mel filterbank has all zero values. The value for `n_mels` (512) may be set too high. Or, the value for `n_freqs` (1025) may be set too low.\n",
            "  \"At least one mel filterbank has all zero values. \"\n"
          ]
        }
      ],
      "source": [
        "from torch.utils.data import Dataset\n",
        "import pandas as pd\n",
        "from os import path\n",
        "import torchaudio as ta\n",
        "\n",
        "n_fft = 2048\n",
        "win_length = None\n",
        "hop_length = 512\n",
        "n_mels = 512\n",
        "n_mfcc = 13\n",
        "\n",
        "mfcc_transform = ta.transforms.MFCC(\n",
        "    sample_rate=22050,\n",
        "    n_mfcc=n_mfcc,\n",
        "    melkwargs={\n",
        "      'n_fft': n_fft,\n",
        "      'n_mels': n_mels,\n",
        "      'hop_length': hop_length,\n",
        "      'mel_scale': 'htk',\n",
        "    })\n",
        "\n",
        "class AudioMNIST(Dataset):\n",
        "    def __init__(self, labels, data, transform=None, target_transform=None):\n",
        "        self.labels = pd.read_csv(labels, header=None)\n",
        "        self.data = data\n",
        "        self.transform = transform\n",
        "        self.target_transform = target_transform\n",
        "\n",
        "    def __len__(self):\n",
        "        return len(self.labels)\n",
        "\n",
        "    def __getitem__(self, idx):\n",
        "        path = os.path.join(self.data, self.labels.iloc[idx, 0])\n",
        "        wave, sr = ta.load(path)\n",
        "        label = self.labels.iloc[idx, 1]\n",
        "        if self.transform:\n",
        "            wave = torch.cat((wave.flatten(), torch.zeros(48000-len(wave.T))))\n",
        "            wave = ta.transforms.Resample(48000, 22050)(wave)\n",
        "            wave = mfcc_transform(wave)\n",
        "            #wave = ta.transforms.SlidingWindowCmn()(wave)\n",
        "        if self.target_transform:\n",
        "            label = self.target_transform(label)\n",
        "        return wave.T, label\n",
        "\n",
        "audiomnist = AudioMNIST(label_path, data_path, True)"
      ]
    },
    {
      "cell_type": "code",
      "execution_count": 30,
      "metadata": {
        "id": "CDGLZDZBqclx"
      },
      "outputs": [],
      "source": [
        "import torch\n",
        "import random\n",
        "import torch.nn.functional as F\n",
        "\n",
        "batch_size = 256\n",
        "\n",
        "train, test = torch.utils.data.random_split(audiomnist, [10240, 19760], generator=torch.Generator().manual_seed(42))\n",
        "traindataloader = torch.utils.data.DataLoader(train, batch_size=batch_size, shuffle=True)\n",
        "testdataloader = torch.utils.data.DataLoader(test, batch_size=batch_size, shuffle=True)"
      ]
    },
    {
      "cell_type": "code",
      "execution_count": 31,
      "metadata": {
        "colab": {
          "base_uri": "https://localhost:8080/",
          "height": 198
        },
        "id": "oE_TF0UsVq2z",
        "outputId": "6b3bd787-9154-4e46-bf21-f541d6541ecd"
      },
      "outputs": [
        {
          "output_type": "stream",
          "name": "stdout",
          "text": [
            "torch.Size([44, 13])\n",
            "3\n"
          ]
        },
        {
          "output_type": "display_data",
          "data": {
            "text/plain": [
              "<Figure size 432x288 with 1 Axes>"
            ],
            "image/png": "[encoded data removed]"
          },
          "metadata": {
            "needs_background": "light"
          }
        }
      ],
      "source": [
        "import matplotlib.pyplot as plt\n",
        "import numpy as np\n",
        "from matplotlib import cm\n",
        "import librosa\n",
        "import librosa.display\n",
        "\n",
        "\n",
        "for i, data in enumerate(traindataloader):\n",
        "    fig, ax = plt.subplots()\n",
        "    print(data[0][0].size())\n",
        "    mfcc_data= np.swapaxes(data[0][0].squeeze().numpy(), 0 ,1)\n",
        "    cax = ax.imshow(mfcc_data, interpolation='nearest', cmap=cm.coolwarm, origin='lower')\n",
        "    ax.set_title('MFCC')\n",
        "    plt.show()\n",
        "    print(data[1][0].numpy())\n",
        "    break\n",
        "\n",
        "def mfcc_extract(filename):\n",
        "    y, sr  = librosa.load(filename, sr = 44100)\n",
        "    mfcc = librosa.feature.mfcc(y=y, sr=sr, n_mfcc=13, n_fft=int(0.02*sr),hop_length=int(0.01*sr))\n",
        "    return mfcc"
      ]
    },
    {
      "cell_type": "code",
      "execution_count": 32,
      "metadata": {
        "id": "nbnWxPR-qfSb"
      },
      "outputs": [],
      "source": [
        "class EncoderRNN(torch.nn.Module):\n",
        "    def __init__(self, input_size, hidden_size):\n",
        "        super(EncoderRNN, self).__init__()\n",
        "        self.hidden_size = hidden_size\n",
        "        self.embedding = torch.nn.Embedding(input_size, hidden_size)\n",
        "        self.gru = torch.nn.GRU(input_size, hidden_size, batch_first=True, bidirectional=False)\n",
        "\n",
        "    def forward(self, input, hidden):\n",
        "        #input = self.embedding(input)\n",
        "        output, hidden = self.gru(input, hidden)\n",
        "        return output, hidden\n",
        "\n",
        "    def initHidden(self):\n",
        "        return torch.zeros(1, batch_size, self.hidden_size).to(device)"
      ]
    },
    {
      "cell_type": "code",
      "execution_count": 33,
      "metadata": {
        "id": "J7VCM-SLqjFZ"
      },
      "outputs": [],
      "source": [
        "MAX_LENGTH = 44\n",
        "\n",
        "class AttnDecoderRNN(torch.nn.Module):\n",
        "    def __init__(self, hidden_size, output_size, dropout_p=0.1, max_length=MAX_LENGTH):\n",
        "        super(AttnDecoderRNN, self).__init__()\n",
        "        self.hidden_size = hidden_size\n",
        "        self.output_size = output_size\n",
        "        self.dropout_p = dropout_p\n",
        "        self.max_length = max_length\n",
        "\n",
        "        self.embedding = torch.nn.Embedding(self.output_size, self.hidden_size)\n",
        "        self.attn = torch.nn.Linear(self.hidden_size + 13, self.max_length)\n",
        "        self.attn_combine = torch.nn.Linear(self.hidden_size + 13, self.hidden_size)\n",
        "        self.dropout = torch.nn.Dropout(self.dropout_p)\n",
        "        self.gru = torch.nn.GRU(self.hidden_size, self.hidden_size, batch_first=True, bidirectional=False)\n",
        "        self.out = torch.nn.Linear(self.hidden_size, self.output_size)\n",
        "\n",
        "    def forward(self, embedded, hidden, encoder_outputs):\n",
        "        #embedded = self.dropout(input)\n",
        "        attn_weights = F.softmax(\n",
        "            self.attn(torch.cat((embedded, torch.reshape(hidden, (batch_size, 1, self.hidden_size))), -1)), dim=-1)\n",
        "        attn_applied = torch.bmm(attn_weights, encoder_outputs)\n",
        "        output = torch.cat((embedded, attn_applied), -1)\n",
        "        output = self.attn_combine(output)\n",
        "        output = F.relu(output)\n",
        "        output, hidden = self.gru(output, hidden)\n",
        "        output = self.out(output)\n",
        "        output = F.sigmoid(output)\n",
        "        return output, hidden, attn_weights\n",
        "\n",
        "    def initHidden(self):\n",
        "        return torch.zeros(1, batch_size, self.hidden_size).to(device)"
      ]
    },
    {
      "cell_type": "code",
      "execution_count": 34,
      "metadata": {
        "id": "H5vTH6ugpv9d"
      },
      "outputs": [],
      "source": [
        "hidden_size = 64\n",
        "encoder1 = EncoderRNN(13, hidden_size).to(device)\n",
        "attn_decoder1 = AttnDecoderRNN(hidden_size, 13, dropout_p=0.1).to(device)\n",
        "\n",
        "encoder_optimizer = torch.optim.Adam(encoder1.parameters(), lr=0.004, amsgrad=True)\n",
        "decoder_optimizer = torch.optim.Adam(attn_decoder1.parameters(), lr=0.004, amsgrad=True)\n",
        "criterion = torch.nn.KLDivLoss()"
      ]
    },
    {
      "cell_type": "code",
      "execution_count": 35,
      "metadata": {
        "id": "4VOeEgf3q86Q"
      },
      "outputs": [],
      "source": [
        "teacher_forcing_ratio = 0.5\n",
        "def train(input_tensor, target_tensor, encoder, decoder, encoder_optimizer, decoder_optimizer, criterion, max_length=MAX_LENGTH):\n",
        "    loss = 0\n",
        "    encoder_hidden = encoder.initHidden()\n",
        "\n",
        "    encoder_optimizer.zero_grad()\n",
        "    decoder_optimizer.zero_grad()\n",
        "    target_length = max_length\n",
        "    encoder_outputs = torch.zeros(batch_size, max_length, encoder.hidden_size).to(device)\n",
        "\n",
        "    encoder_outputs, encoder_hidden = encoder(\n",
        "                        input_tensor, encoder_hidden)\n",
        "\n",
        "    decoder_input = torch.zeros(batch_size, 1, 13).to(device)\n",
        "    decoder_hidden = encoder_hidden\n",
        "\n",
        "    use_teacher_forcing = True if random.random() < teacher_forcing_ratio else False\n",
        "    if use_teacher_forcing:\n",
        "        for di in range(target_length):\n",
        "            decoder_output, decoder_hidden, decoder_attention = decoder(\n",
        "                decoder_input, decoder_hidden, encoder_outputs)\n",
        "            loss += criterion(decoder_output, \n",
        "                              target_tensor[:, di:di+1, :])\n",
        "            decoder_input = target_tensor[:, di:di+1, :]\n",
        "\n",
        "    else:\n",
        "        for di in range(target_length):\n",
        "            decoder_output, decoder_hidden, decoder_attention = decoder(\n",
        "                decoder_input, decoder_hidden, encoder_outputs)\n",
        "            decoder_input = decoder_output\n",
        "            loss += criterion(decoder_output, \n",
        "                              target_tensor[:, di:di+1, :])\n",
        "\n",
        "    loss.backward()\n",
        "\n",
        "    decoder_optimizer.step()\n",
        "    encoder_optimizer.step()\n",
        "\n",
        "    return loss.item() / target_length"
      ]
    },
    {
      "cell_type": "code",
      "execution_count": 36,
      "metadata": {
        "id": "vZ2cgmEFrUd0"
      },
      "outputs": [],
      "source": [
        "plt.switch_backend('agg')\n",
        "import matplotlib.ticker as ticker\n",
        "\n",
        "def showPlot(points):\n",
        "    plt.figure()\n",
        "    fig, ax = plt.subplots()\n",
        "    loc = ticker.MultipleLocator(base=0.2)\n",
        "    ax.yaxis.set_major_locator(loc)\n",
        "    plt.plot(points)"
      ]
    },
    {
      "cell_type": "code",
      "execution_count": 37,
      "metadata": {
        "colab": {
          "base_uri": "https://localhost:8080/",
          "height": 553
        },
        "id": "_9O7fQMCrwqg",
        "outputId": "d0d715d8-d9af-4fd0-8892-b525a6afcddf"
      },
      "outputs": [
        {
          "output_type": "stream",
          "name": "stderr",
          "text": [
            "/usr/local/lib/python3.7/dist-packages/torch/nn/functional.py:1806: UserWarning: nn.functional.sigmoid is deprecated. Use torch.sigmoid instead.\n",
            "  warnings.warn(\"nn.functional.sigmoid is deprecated. Use torch.sigmoid instead.\")\n",
            "/usr/local/lib/python3.7/dist-packages/torch/nn/functional.py:2748: UserWarning: reduction: 'mean' divides the total loss by both the batch size and the support size.'batchmean' divides only by the batch size, and aligns with the KL div math definition.'mean' will be changed to behave the same as 'batchmean' in the next major release.\n",
            "  \"reduction: 'mean' divides the total loss by both the batch size and the support size.\"\n"
          ]
        },
        {
          "output_type": "stream",
          "name": "stdout",
          "text": [
            "epoch :  0 loss :  39.86581087979403\n",
            "epoch :  1 loss :  39.08012473366476\n",
            "epoch :  2 loss :  39.073931537974964\n",
            "epoch :  3 loss :  39.07113585038619\n",
            "epoch :  4 loss :  39.06939815174449\n",
            "epoch :  5 loss :  39.06823883056641\n",
            "epoch :  6 loss :  39.0674260226163\n",
            "epoch :  7 loss :  39.06683363481002\n",
            "epoch :  8 loss :  39.06638627485795\n",
            "epoch :  9 loss :  39.06603872125798\n"
          ]
        },
        {
          "output_type": "display_data",
          "data": {
            "text/plain": [
              "<Figure size 432x288 with 0 Axes>"
            ]
          },
          "metadata": {}
        },
        {
          "output_type": "display_data",
          "data": {
            "text/plain": [
              "<Figure size 432x288 with 1 Axes>"
            ],
            "image/png": "[encoded data removed]"
          },
          "metadata": {
            "needs_background": "light"
          }
        }
      ],
      "source": [
        "plot_losses = []\n",
        "\n",
        "for iter in range(10):\n",
        "    print_loss_total = 0\n",
        "    plot_loss_total = 0\n",
        "\n",
        "    for i, data in enumerate(traindataloader):\n",
        "        wave = data[0]\n",
        "        wave = wave.cuda()\n",
        "        loss = train(wave, wave, encoder1, attn_decoder1, encoder_optimizer, decoder_optimizer, criterion)\n",
        "        print_loss_total += loss\n",
        "        plot_loss_total += loss\n",
        "\n",
        "    plot_loss_avg = plot_loss_total/len(traindataloader)\n",
        "    plot_losses.append(plot_loss_avg)\n",
        "\n",
        "    print(\"epoch : \", iter, \"loss : \", plot_loss_avg)\n",
        "\n",
        "showPlot(plot_losses)"
      ]
    },
    {
      "cell_type": "code",
      "execution_count": null,
      "metadata": {
        "id": "eXvxyYYnY8Gn"
      },
      "outputs": [],
      "source": [
        ""
      ]
    }
  ],
  "metadata": {
    "accelerator": "GPU",
    "colab": {
      "collapsed_sections": [],
      "name": "gru.ipynb",
      "provenance": [],
      "include_colab_link": true
    },
    "kernelspec": {
      "display_name": "Python 3",
      "name": "python3"
    },
    "language_info": {
      "name": "python"
    }
  },
  "nbformat": 4,
  "nbformat_minor": 0
}