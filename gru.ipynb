{
  "cells": [
    {
      "cell_type": "code",
      "execution_count": null,
      "metadata": {
        "colab": {
          "base_uri": "https://localhost:8080/"
        },
        "id": "O1wZQh88qSTY",
        "outputId": "f07fa097-fa8b-4e6f-dac1-7f4100a5bccd"
      },
      "outputs": [
        {
          "output_type": "stream",
          "name": "stdout",
          "text": [
            "Mounted at mount/\n",
            "cuda:0\n"
          ]
        }
      ],
      "source": [
        "from google.colab import drive\n",
        "import torch\n",
        "\n",
        "drive.mount('mount/')\n",
        "device = torch.device(\"cuda:0\" if (torch.cuda.is_available()) else \"cpu\")\n",
        "print(device)"
      ]
    },
    {
      "cell_type": "code",
      "source": [
        "from torch.utils.data import Dataset\n",
        "import os\n",
        "\n",
        "class AudioMNIST(Dataset):\n",
        "  def __init__(self, wav, mask):\n",
        "    self.wav = wav # wave path\n",
        "    self.mask = mask # mask path\n",
        "    self.len = len(os.listdir(self.wav))\n",
        "\n",
        "  def __getitem__(self, index):\n",
        "    ls_wav = sorted(os.listdir(self.wav))\n",
        "    ls_mask = sorted(os.listdir(self.mask))\n",
        "\n",
        "    wav_file_path = os.path.join(self.wav, ls_wav[index])\n",
        "    wav_tensor = torch.load(wav_file_path)\n",
        "\n",
        "    mask_file_path = os.path.join(self.mask, ls_mask[index])\n",
        "    mask_tensor = torch.load(mask_file_path)\n",
        "\n",
        "    return wav_tensor, mask_tensor\n",
        "\n",
        "  def __len__(self):\n",
        "    return self.len  \n",
        "\n",
        "train = AudioMNIST('mount/MyDrive/audiomnist/train/wav/', 'mount/MyDrive/audiomnist/train/mask/')\n",
        "test = AudioMNIST('mount/MyDrive/audiomnist/test/wav/', 'mount/MyDrive/audiomnist/test/mask/')"
      ],
      "metadata": {
        "id": "H3vJr04EkmUD"
      },
      "execution_count": null,
      "outputs": []
    },
    {
      "cell_type": "code",
      "execution_count": null,
      "metadata": {
        "id": "CDGLZDZBqclx"
      },
      "outputs": [],
      "source": [
        "import random\n",
        "import torch.nn.functional as F\n",
        "\n",
        "batch_size = 50\n",
        "\n",
        "traindataloader = torch.utils.data.DataLoader(train, batch_size=batch_size, shuffle=True, pin_memory=True)\n",
        "testdataloader = torch.utils.data.DataLoader(test, batch_size=batch_size, shuffle=True, pin_memory=True)"
      ]
    },
    {
      "cell_type": "code",
      "execution_count": null,
      "metadata": {
        "colab": {
          "base_uri": "https://localhost:8080/",
          "height": 317
        },
        "id": "oE_TF0UsVq2z",
        "outputId": "c1ea0f22-4496-438e-96f1-5d1780e67d33"
      },
      "outputs": [
        {
          "output_type": "stream",
          "name": "stdout",
          "text": [
            "torch.Size([17, 13, 1])\n"
          ]
        },
        {
          "output_type": "display_data",
          "data": {
            "text/plain": [
              "<Figure size 432x288 with 1 Axes>"
            ],
            "image/png": "[encoded data removed]"
          },
          "metadata": {
            "needs_background": "light"
          }
        },
        {
          "output_type": "stream",
          "name": "stdout",
          "text": [
            "0\n"
          ]
        }
      ],
      "source": [
        "import matplotlib.pyplot as plt\n",
        "import numpy as np\n",
        "from matplotlib import cm\n",
        "\n",
        "fig, ax = plt.subplots()\n",
        "print(train[0][0].size())\n",
        "mfcc_data= np.swapaxes(train[0][0].squeeze().numpy(), 0 ,1)\n",
        "cax = ax.imshow(mfcc_data, interpolation='nearest', cmap=cm.coolwarm, origin='lower')\n",
        "ax.set_title('MFCC')\n",
        "plt.show()\n",
        "print(train[0][1])"
      ]
    },
    {
      "cell_type": "code",
      "execution_count": null,
      "metadata": {
        "id": "nbnWxPR-qfSb"
      },
      "outputs": [],
      "source": [
        "class EncoderRNN(torch.nn.Module):\n",
        "    def __init__(self, input_size, hidden_size):\n",
        "        super(EncoderRNN, self).__init__()\n",
        "        self.hidden_size = hidden_size\n",
        "        self.embedding = torch.nn.Embedding(input_size, self.hidden_size)\n",
        "        self.gru = torch.nn.GRU(input_size, self.hidden_size, batch_first=True, bidirectional=True)\n",
        "        self.lin = torch.nn.Sequential(torch.nn.Linear(2*self.hidden_size, int(0.25*self.hidden_size)),\n",
        "                                    torch.nn.LeakyReLU(0.2, inplace=False),\n",
        "                                    torch.nn.Linear(int(0.25*self.hidden_size), int(0.0625*self.hidden_size)),\n",
        "                                    torch.nn.LeakyReLU(0.2, inplace=False),\n",
        "                                    torch.nn.Linear(int(0.0625*self.hidden_size), 10))\n",
        "\n",
        "    def forward(self, input):\n",
        "        latent, hidden = self.gru(input)\n",
        "        latent = latent[:, -1, :]\n",
        "        output = self.lin(latent)\n",
        "        return output"
      ]
    },
    {
      "cell_type": "code",
      "execution_count": null,
      "metadata": {
        "id": "H5vTH6ugpv9d"
      },
      "outputs": [],
      "source": [
        "hidden_size = 128\n",
        "n_mfcc = 13\n",
        "\n",
        "encoder = EncoderRNN(n_mfcc, hidden_size).to(device)\n",
        "\n",
        "optimizer = torch.optim.Adam(encoder.parameters(), lr=0.002, amsgrad=True)\n",
        "criterion = torch.nn.CrossEntropyLoss()"
      ]
    },
    {
      "cell_type": "code",
      "source": [
        "train_loss_history = []\n",
        "test_loss_history = []\n",
        "train_acc_history = []\n",
        "test_acc_history = []"
      ],
      "metadata": {
        "id": "j_sttCat--_l"
      },
      "execution_count": null,
      "outputs": []
    },
    {
      "cell_type": "code",
      "execution_count": null,
      "metadata": {
        "id": "_9O7fQMCrwqg",
        "colab": {
          "base_uri": "https://localhost:8080/"
        },
        "outputId": "2d5f47f6-c50a-49a6-a588-0ed0f87a4deb"
      },
      "outputs": [
        {
          "output_type": "stream",
          "name": "stderr",
          "text": [
            "100%|██████████| 80/80 [09:09<00:00,  6.87s/it]\n",
            "100%|██████████| 20/20 [02:13<00:00,  6.66s/it]\n"
          ]
        },
        {
          "output_type": "stream",
          "name": "stdout",
          "text": [
            "Epoch 0, Train loss 2.2294522374868393, Test loss 2.0609480798244477, Train accuracy 13.499999725818634, Test accuracy 18.699999856948853,\n"
          ]
        },
        {
          "output_type": "stream",
          "name": "stderr",
          "text": [
            "100%|██████████| 80/80 [06:59<00:00,  5.24s/it]\n",
            "100%|██████████| 20/20 [00:24<00:00,  1.21s/it]\n"
          ]
        },
        {
          "output_type": "stream",
          "name": "stdout",
          "text": [
            "Epoch 1, Train loss 1.5951706178486353, Test loss 1.08377465903759, Train accuracy 37.57499918937683, Test accuracy 60.599999237060544,\n"
          ]
        },
        {
          "output_type": "stream",
          "name": "stderr",
          "text": [
            "100%|██████████| 80/80 [06:52<00:00,  5.16s/it]\n",
            "100%|██████████| 20/20 [00:24<00:00,  1.22s/it]\n"
          ]
        },
        {
          "output_type": "stream",
          "name": "stdout",
          "text": [
            "Epoch 2, Train loss 0.7990779004991054, Test loss 0.5541278541088104, Train accuracy 69.92499904632568, Test accuracy 78.09999771118164,\n"
          ]
        },
        {
          "output_type": "stream",
          "name": "stderr",
          "text": [
            "100%|██████████| 80/80 [06:56<00:00,  5.21s/it]\n",
            "100%|██████████| 20/20 [00:24<00:00,  1.23s/it]\n"
          ]
        },
        {
          "output_type": "stream",
          "name": "stdout",
          "text": [
            "Epoch 3, Train loss 0.4970802560448646, Test loss 0.42411669045686723, Train accuracy 80.39999771118164, Test accuracy 82.39999771118164,\n"
          ]
        },
        {
          "output_type": "stream",
          "name": "stderr",
          "text": [
            "100%|██████████| 80/80 [06:46<00:00,  5.08s/it]\n",
            "100%|██████████| 20/20 [00:24<00:00,  1.21s/it]\n"
          ]
        },
        {
          "output_type": "stream",
          "name": "stdout",
          "text": [
            "Epoch 4, Train loss 0.3158787671476604, Test loss 0.25362068787217135, Train accuracy 87.79999723434449, Test accuracy 92.49999732971192,\n"
          ]
        },
        {
          "output_type": "stream",
          "name": "stderr",
          "text": [
            "100%|██████████| 80/80 [06:49<00:00,  5.12s/it]\n",
            "100%|██████████| 20/20 [00:23<00:00,  1.18s/it]\n"
          ]
        },
        {
          "output_type": "stream",
          "name": "stdout",
          "text": [
            "Epoch 5, Train loss 0.2173262542113662, Test loss 0.17552376762032507, Train accuracy 92.0749979019165, Test accuracy 93.69999809265137,\n"
          ]
        },
        {
          "output_type": "stream",
          "name": "stderr",
          "text": [
            "100%|██████████| 80/80 [06:57<00:00,  5.22s/it]\n",
            "100%|██████████| 20/20 [00:24<00:00,  1.20s/it]\n"
          ]
        },
        {
          "output_type": "stream",
          "name": "stdout",
          "text": [
            "Epoch 6, Train loss 0.14766377948690207, Test loss 0.1267583546228707, Train accuracy 95.4749969482422, Test accuracy 96.69999694824219,\n"
          ]
        },
        {
          "output_type": "stream",
          "name": "stderr",
          "text": [
            "100%|██████████| 80/80 [06:47<00:00,  5.09s/it]\n",
            "100%|██████████| 20/20 [00:23<00:00,  1.17s/it]\n"
          ]
        },
        {
          "output_type": "stream",
          "name": "stdout",
          "text": [
            "Epoch 7, Train loss 0.10083882829640059, Test loss 0.10683318935334682, Train accuracy 96.57499723434448, Test accuracy 96.99999771118163,\n"
          ]
        },
        {
          "output_type": "stream",
          "name": "stderr",
          "text": [
            "100%|██████████| 80/80 [06:52<00:00,  5.15s/it]\n",
            "100%|██████████| 20/20 [00:23<00:00,  1.19s/it]\n"
          ]
        },
        {
          "output_type": "stream",
          "name": "stdout",
          "text": [
            "Epoch 8, Train loss 0.08587201167829338, Test loss 0.08820207836106418, Train accuracy 97.37499704360962, Test accuracy 98.29999694824218,\n"
          ]
        },
        {
          "output_type": "stream",
          "name": "stderr",
          "text": [
            "100%|██████████| 80/80 [07:05<00:00,  5.32s/it]\n",
            "100%|██████████| 20/20 [00:24<00:00,  1.22s/it]\n"
          ]
        },
        {
          "output_type": "stream",
          "name": "stdout",
          "text": [
            "Epoch 9, Train loss 0.0967553085647523, Test loss 0.14889333955943584, Train accuracy 96.97499656677246, Test accuracy 96.19999694824219,\n"
          ]
        },
        {
          "output_type": "stream",
          "name": "stderr",
          "text": [
            "100%|██████████| 80/80 [07:03<00:00,  5.29s/it]\n",
            "100%|██████████| 20/20 [00:24<00:00,  1.22s/it]\n"
          ]
        },
        {
          "output_type": "stream",
          "name": "stdout",
          "text": [
            "Epoch 10, Train loss 0.07247164200525731, Test loss 0.07322935496922583, Train accuracy 97.59999704360962, Test accuracy 98.69999771118164,\n"
          ]
        },
        {
          "output_type": "stream",
          "name": "stderr",
          "text": [
            "100%|██████████| 80/80 [06:53<00:00,  5.17s/it]\n",
            "100%|██████████| 20/20 [00:24<00:00,  1.23s/it]\n"
          ]
        },
        {
          "output_type": "stream",
          "name": "stdout",
          "text": [
            "Epoch 11, Train loss 0.08248781875299757, Test loss 0.2949078308418393, Train accuracy 97.69999742507935, Test accuracy 93.89999694824219,\n"
          ]
        },
        {
          "output_type": "stream",
          "name": "stderr",
          "text": [
            "100%|██████████| 80/80 [06:51<00:00,  5.14s/it]\n",
            "100%|██████████| 20/20 [00:24<00:00,  1.20s/it]\n"
          ]
        },
        {
          "output_type": "stream",
          "name": "stdout",
          "text": [
            "Epoch 12, Train loss 0.07741763327503579, Test loss 0.05584311217535288, Train accuracy 97.64999761581421, Test accuracy 99.19999771118164,\n"
          ]
        },
        {
          "output_type": "stream",
          "name": "stderr",
          "text": [
            "100%|██████████| 80/80 [07:00<00:00,  5.25s/it]\n",
            "100%|██████████| 20/20 [00:23<00:00,  1.19s/it]\n"
          ]
        },
        {
          "output_type": "stream",
          "name": "stdout",
          "text": [
            "Epoch 13, Train loss 0.031211162218824025, Test loss 0.026029323029797526, Train accuracy 98.99999752044678, Test accuracy 99.39999847412109,\n"
          ]
        },
        {
          "output_type": "stream",
          "name": "stderr",
          "text": [
            "100%|██████████| 80/80 [06:47<00:00,  5.10s/it]\n",
            "100%|██████████| 20/20 [00:24<00:00,  1.21s/it]"
          ]
        },
        {
          "output_type": "stream",
          "name": "stdout",
          "text": [
            "Epoch 14, Train loss 0.029880047775804996, Test loss 0.05497707773465663, Train accuracy 98.94999723434448, Test accuracy 99.09999809265136,\n"
          ]
        },
        {
          "output_type": "stream",
          "name": "stderr",
          "text": [
            "\n"
          ]
        }
      ],
      "source": [
        "from tqdm import tqdm\n",
        "best_loss = 1\n",
        "steps = 15\n",
        "\n",
        "for epoch in range(steps):\n",
        "    train_loss = 0.0\n",
        "    test_loss = 0.0\n",
        "    train_acc = 0.0\n",
        "    test_acc = 0.0\n",
        "\n",
        "    for i, data in enumerate(tqdm(traindataloader)):\n",
        "        encoder.train()\n",
        "        wav, tag = data\n",
        "        wav = wav.cuda()\n",
        "        tag = tag.cuda()\n",
        "        optimizer.zero_grad()\n",
        "        pred = encoder(wav.squeeze()).cuda()\n",
        "        loss = criterion(pred, tag)\n",
        "        loss.backward()\n",
        "        optimizer.step()\n",
        "        #scheduler.step(epoch + i / len(trainDataLoader))\n",
        "        train_loss += loss.item()/len(traindataloader)\n",
        "        train_acc += (torch.eq(torch.max(pred, 1)[1], tag).sum()/len(tag)*100).data.cpu().numpy()\n",
        "\n",
        "    for i, data in enumerate(tqdm(testdataloader)):\n",
        "        encoder.eval()\n",
        "        with torch.no_grad():\n",
        "            wav, tag = data\n",
        "            wav = wav.cuda()\n",
        "            tag = tag.cuda()\n",
        "            pred = encoder(wav.squeeze()).cuda()\n",
        "            loss = criterion(pred, tag)\n",
        "            test_loss += loss.item()/len(testdataloader)\n",
        "            test_acc += (torch.eq(torch.max(pred, 1)[1], tag).sum()/len(tag)*100).data.cpu().numpy()\n",
        "\n",
        "    train_loss_history.append(train_loss)\n",
        "    test_loss_history.append(test_loss)\n",
        "    train_acc_history.append(train_acc/len(traindataloader))\n",
        "    test_acc_history.append(test_acc/len(testdataloader))\n",
        "\n",
        "    if test_loss < best_loss:\n",
        "        best_loss = test_loss\n",
        "        torch.save(encoder.state_dict(), 'mount/MyDrive/encoder.pt')\n",
        "\n",
        "    print('Epoch %s, Train loss %s, Test loss %s, Train accuracy %s, Test accuracy %s,'\n",
        "        %(epoch, train_loss, test_loss, train_acc/len(traindataloader), test_acc/len(testdataloader)))\n",
        "  \n",
        "    if test_acc/len(testdataloader) >= 99.8:\n",
        "        break"
      ]
    },
    {
      "cell_type": "code",
      "source": [
        "plt.style.use(\"dark_background\")\n",
        "plt.plot(range(len(train_loss_history)),train_loss_history,'-',linewidth=3,label='train')\n",
        "plt.plot(range(len(test_loss_history)),test_loss_history,'-',linewidth=3,label='test')\n",
        "plt.xlabel('epoch')\n",
        "plt.ylabel('loss')\n",
        "plt.grid(True)\n",
        "plt.legend()"
      ],
      "metadata": {
        "colab": {
          "base_uri": "https://localhost:8080/",
          "height": 297
        },
        "id": "MxU0NPw998cp",
        "outputId": "f276ef07-7dc5-4bb9-dcc7-61126b371773"
      },
      "execution_count": null,
      "outputs": [
        {
          "output_type": "execute_result",
          "data": {
            "text/plain": [
              "<matplotlib.legend.Legend at 0x7f1a408e0050>"
            ]
          },
          "metadata": {},
          "execution_count": 9
        },
        {
          "output_type": "display_data",
          "data": {
            "text/plain": [
              "<Figure size 432x288 with 1 Axes>"
            ],
            "image/png": "[encoded data removed]"
          },
          "metadata": {}
        }
      ]
    },
    {
      "cell_type": "code",
      "source": [
        "plt.style.use(\"dark_background\")\n",
        "plt.plot(range(len(train_acc_history)),train_acc_history,'-',linewidth=3,label='train')\n",
        "plt.plot(range(len(test_acc_history)),test_acc_history,'-',linewidth=3,label='test')\n",
        "plt.xlabel('epoch')\n",
        "plt.ylabel('accuracy')\n",
        "plt.grid(True)\n",
        "plt.legend()"
      ],
      "metadata": {
        "colab": {
          "base_uri": "https://localhost:8080/",
          "height": 297
        },
        "id": "LYtaLYlC-BCp",
        "outputId": "06aca5f7-99bd-41a5-926a-5d3663ccc2db"
      },
      "execution_count": null,
      "outputs": [
        {
          "output_type": "execute_result",
          "data": {
            "text/plain": [
              "<matplotlib.legend.Legend at 0x7f1a40958610>"
            ]
          },
          "metadata": {},
          "execution_count": 10
        },
        {
          "output_type": "display_data",
          "data": {
            "text/plain": [
              "<Figure size 432x288 with 1 Axes>"
            ],
            "image/png": "[encoded data removed]"
          },
          "metadata": {}
        }
      ]
    },
    {
      "cell_type": "code",
      "source": [
        ""
      ],
      "metadata": {
        "id": "MUO88T1v-WA0"
      },
      "execution_count": null,
      "outputs": []
    }
  ],
  "metadata": {
    "accelerator": "GPU",
    "colab": {
      "collapsed_sections": [],
      "name": "gru.ipynb",
      "provenance": [],
      "machine_shape": "hm"
    },
    "kernelspec": {
      "display_name": "Python 3",
      "name": "python3"
    },
    "language_info": {
      "name": "python"
    }
  },
  "nbformat": 4,
  "nbformat_minor": 0
}