{
  "nbformat": 4,
  "nbformat_minor": 0,
  "metadata": {
    "colab": {
      "name": "dcgan.ipynb",
      "provenance": [],
      "collapsed_sections": [],
      "mount_file_id": "1xqVx5iRQpgvaDwiXdqmnlsccdr2l5Zma",
      "authorship_tag": "ABX9TyPYQtmkk073cwcCqTMaCR6A"
    },
    "kernelspec": {
      "name": "python3",
      "display_name": "Python 3"
    },
    "language_info": {
      "name": "python"
    },
    "accelerator": "GPU"
  },
  "cells": [
    {
      "cell_type": "code",
      "source": [
        "from google.colab import drive\n",
        "import torch\n",
        "from tqdm import tqdm\n",
        "\n",
        "drive.mount('mount/')\n",
        "device = torch.device(\"cuda:0\" if (torch.cuda.is_available()) else \"cpu\")\n",
        "print(device)"
      ],
      "metadata": {
        "colab": {
          "base_uri": "https://localhost:8080/"
        },
        "id": "uNK4yqX7-QA5",
        "outputId": "35648f2e-006d-4bf9-ac70-9c4a3fbb342e"
      },
      "execution_count": 1,
      "outputs": [
        {
          "output_type": "stream",
          "name": "stdout",
          "text": [
            "Mounted at mount/\n",
            "cuda:0\n"
          ]
        }
      ]
    },
    {
      "cell_type": "code",
      "source": [
        "from torchvision.transforms.transforms import Resize\n",
        "import torchvision as tv\n",
        "import torch.nn.functional as F\n",
        "\n",
        "transform = tv.transforms.Compose([\n",
        "            tv.transforms.ToTensor(),\n",
        "            tv.transforms.Resize(size=64),\n",
        "            tv.transforms.Normalize(mean = [0.5], std = [0.5])\n",
        "            ])\n",
        "\n",
        "batch_size = 256\n",
        "\n",
        "img_train = tv.datasets.MNIST('mount/MyDrive/MNIST/',train=True,download=True, transform=transform)\n",
        "img_test = tv.datasets.MNIST('mount/MyDrive/MNIST/',train=False,download=True, transform=transform)"
      ],
      "metadata": {
        "id": "dEGZuLAsL6Ec"
      },
      "execution_count": 2,
      "outputs": []
    },
    {
      "cell_type": "code",
      "source": [
        "imgtrainDataLoader = torch.utils.data.DataLoader(img_train, batch_size=batch_size,shuffle=True)\n",
        "imgtestDataLoader = torch.utils.data.DataLoader(img_test, batch_size=batch_size,shuffle=True)"
      ],
      "metadata": {
        "id": "XVtjipkTMh_I"
      },
      "execution_count": 3,
      "outputs": []
    },
    {
      "cell_type": "code",
      "source": [
        "embedding = torch.load('mount/MyDrive/embedding.pt')"
      ],
      "metadata": {
        "id": "qKv6ZQOnYtsx"
      },
      "execution_count": 4,
      "outputs": []
    },
    {
      "cell_type": "code",
      "source": [
        "# channel\n",
        "nc = 1\n",
        "# latent vector\n",
        "nz = 128\n",
        "# generator feature maps\n",
        "ngf = 64\n",
        "# discriminator feature map\n",
        "ndf = 64\n",
        "# gpu\n",
        "ngpu = 1\n",
        "# class\n",
        "n_classes = 10"
      ],
      "metadata": {
        "id": "cPShVxcVA7pe"
      },
      "execution_count": 5,
      "outputs": []
    },
    {
      "cell_type": "code",
      "source": [
        "def weights_init(m):\n",
        "    classname = m.__class__.__name__\n",
        "    if classname.find('Conv') != -1:\n",
        "        torch.nn.init.normal_(m.weight.data, 0.0, 0.02)\n",
        "    elif classname.find('BatchNorm') != -1:\n",
        "        torch.nn.init.normal_(m.weight.data, 1.0, 0.02)\n",
        "        torch.nn.init.constant_(m.bias.data, 0)"
      ],
      "metadata": {
        "id": "qllCUsnC47gQ"
      },
      "execution_count": 6,
      "outputs": []
    },
    {
      "cell_type": "code",
      "source": [
        "class Generator(torch.nn.Module):\n",
        "    def __init__(self, ngpu):\n",
        "        super(Generator, self).__init__()\n",
        "        self.ngpu = ngpu\n",
        "        self.label_cg = torch.nn.Sequential(torch.nn.Embedding(n_classes, 100),\n",
        "                      torch.nn.Linear(100, 16))  \n",
        "\n",
        "        self.latent = torch.nn.Sequential(torch.nn.Linear(nz, 1*1*1024),\n",
        "                                    torch.nn.LeakyReLU(0.2, inplace=False))\n",
        "\n",
        "        self.main = torch.nn.Sequential(\n",
        "            torch.nn.ConvTranspose2d(1040, ngf * 8, 4, 1, 0, bias=False), # 4, 4\n",
        "            torch.nn.BatchNorm2d(ngf * 8),\n",
        "            torch.nn.LeakyReLU(0.2, inplace=False),\n",
        "            torch.nn.ConvTranspose2d(ngf * 8, ngf * 4, 4, 2, 1, bias=False), # 8, 8\n",
        "            torch.nn.BatchNorm2d(ngf * 4),\n",
        "            torch.nn.LeakyReLU(0.2, inplace=False),\n",
        "            torch.nn.ConvTranspose2d(ngf * 4, ngf * 2, 4, 2, 1, bias=False), # 16, 16\n",
        "            torch.nn.BatchNorm2d(ngf * 2),\n",
        "            torch.nn.LeakyReLU(0.2, inplace=False),\n",
        "            torch.nn.ConvTranspose2d(ngf * 2, ngf, 4, 2, 1, bias=False), # 32, 32\n",
        "            torch.nn.BatchNorm2d(ngf),\n",
        "            torch.nn.LeakyReLU(0.2, inplace=False),\n",
        "            torch.nn.ConvTranspose2d(ngf, nc, 4, 2, 1, bias=False), # 64, 64\n",
        "            torch.nn.Tanh()\n",
        "        )\n",
        "\n",
        "    def forward(self, latent, label):\n",
        "        label = self.label_cg(label)\n",
        "        label = label.view(-1, 16, 1, 1)\n",
        "        latent = self.latent(latent)\n",
        "        latent = latent.view(-1, 1024, 1, 1)\n",
        "        concat = torch.cat((latent, label), dim=1)\n",
        "        return self.main(concat)\n",
        "\n",
        "#if (device.type == 'cuda') and (ngpu > 1):\n",
        "    #netG = nn.DataParallel(netG, list(range(ngpu)))\n",
        "\n",
        "netG = Generator(ngpu).to(device)\n",
        "netG.label_cg[0].weight.data.copy_(embedding)\n",
        "netG.apply(weights_init)"
      ],
      "metadata": {
        "id": "bgfXa7N05QG-",
        "colab": {
          "base_uri": "https://localhost:8080/"
        },
        "outputId": "bebd7aae-0dd8-4e21-e58b-e7616e51c58b"
      },
      "execution_count": 7,
      "outputs": [
        {
          "output_type": "execute_result",
          "data": {
            "text/plain": [
              "Generator(\n",
              "  (label_cg): Sequential(\n",
              "    (0): Embedding(10, 100)\n",
              "    (1): Linear(in_features=100, out_features=16, bias=True)\n",
              "  )\n",
              "  (latent): Sequential(\n",
              "    (0): Linear(in_features=128, out_features=1024, bias=True)\n",
              "    (1): LeakyReLU(negative_slope=0.2)\n",
              "  )\n",
              "  (main): Sequential(\n",
              "    (0): ConvTranspose2d(1040, 512, kernel_size=(4, 4), stride=(1, 1), bias=False)\n",
              "    (1): BatchNorm2d(512, eps=1e-05, momentum=0.1, affine=True, track_running_stats=True)\n",
              "    (2): LeakyReLU(negative_slope=0.2)\n",
              "    (3): ConvTranspose2d(512, 256, kernel_size=(4, 4), stride=(2, 2), padding=(1, 1), bias=False)\n",
              "    (4): BatchNorm2d(256, eps=1e-05, momentum=0.1, affine=True, track_running_stats=True)\n",
              "    (5): LeakyReLU(negative_slope=0.2)\n",
              "    (6): ConvTranspose2d(256, 128, kernel_size=(4, 4), stride=(2, 2), padding=(1, 1), bias=False)\n",
              "    (7): BatchNorm2d(128, eps=1e-05, momentum=0.1, affine=True, track_running_stats=True)\n",
              "    (8): LeakyReLU(negative_slope=0.2)\n",
              "    (9): ConvTranspose2d(128, 64, kernel_size=(4, 4), stride=(2, 2), padding=(1, 1), bias=False)\n",
              "    (10): BatchNorm2d(64, eps=1e-05, momentum=0.1, affine=True, track_running_stats=True)\n",
              "    (11): LeakyReLU(negative_slope=0.2)\n",
              "    (12): ConvTranspose2d(64, 1, kernel_size=(4, 4), stride=(2, 2), padding=(1, 1), bias=False)\n",
              "    (13): Tanh()\n",
              "  )\n",
              ")"
            ]
          },
          "metadata": {},
          "execution_count": 7
        }
      ]
    },
    {
      "cell_type": "code",
      "source": [
        "class Discriminator(torch.nn.Module):\n",
        "    def __init__(self, ngpu):\n",
        "        super(Discriminator, self).__init__()\n",
        "        self.ngpu = ngpu\n",
        "        self.label_cd = torch.nn.Sequential(torch.nn.Embedding(n_classes, 100),\n",
        "                                                        torch.nn.Linear(100, 1*64*64))\n",
        "        self.drop = torch.nn.Dropout(p=0.6, inplace=False)\n",
        "        self.main = torch.nn.Sequential(\n",
        "            torch.nn.Conv2d(nc*2, ndf, 4, 2, 1, bias=False), # 64, 64\n",
        "            torch.nn.BatchNorm2d(ndf),\n",
        "            torch.nn.LeakyReLU(0.2, inplace=True),\n",
        "            torch.nn.Conv2d(ndf, ndf * 2, 4, 2, 1, bias=False), # 32, 32\n",
        "            torch.nn.BatchNorm2d(ndf * 2),\n",
        "            torch.nn.LeakyReLU(0.2, inplace=True),\n",
        "            torch.nn.Conv2d(ndf * 2, ndf * 4, 4, 2, 1, bias=False), # 16, 16\n",
        "            torch.nn.BatchNorm2d(ndf * 4),\n",
        "            torch.nn.LeakyReLU(0.2, inplace=True),\n",
        "            torch.nn.Conv2d(ndf * 4, ndf * 8, 4, 2, 1, bias=False), # 4, 4\n",
        "            torch.nn.BatchNorm2d(ndf * 8),\n",
        "            torch.nn.LeakyReLU(0.2, inplace=True),\n",
        "            torch.nn.Conv2d(ndf * 8, 1, 4, 1, 0, bias=False), # 1, 1\n",
        "            torch.nn.Sigmoid()\n",
        "        )\n",
        "\n",
        "    def forward(self, img, label):\n",
        "        label = self.label_cd(label)\n",
        "        label = label.view(-1, 1, 64, 64)\n",
        "        concat = torch.cat((self.drop(img), label), dim=1)\n",
        "        #print(concat.size())\n",
        "        return self.main(concat)\n",
        "\n",
        "#if (device.type == 'cuda') and (ngpu > 1):\n",
        "    #netD = nn.DataParallel(netD, list(range(ngpu)))\n",
        "\n",
        "netD = Discriminator(ngpu).to(device)\n",
        "netD.label_cd[0].weight.data.copy_(embedding)\n",
        "netD.apply(weights_init)"
      ],
      "metadata": {
        "id": "H2ketVDVJtlF",
        "colab": {
          "base_uri": "https://localhost:8080/"
        },
        "outputId": "1fd5533d-de62-42ff-8465-4cee072fdff6"
      },
      "execution_count": 8,
      "outputs": [
        {
          "output_type": "execute_result",
          "data": {
            "text/plain": [
              "Discriminator(\n",
              "  (label_cd): Sequential(\n",
              "    (0): Embedding(10, 100)\n",
              "    (1): Linear(in_features=100, out_features=4096, bias=True)\n",
              "  )\n",
              "  (drop): Dropout(p=0.6, inplace=False)\n",
              "  (main): Sequential(\n",
              "    (0): Conv2d(2, 64, kernel_size=(4, 4), stride=(2, 2), padding=(1, 1), bias=False)\n",
              "    (1): BatchNorm2d(64, eps=1e-05, momentum=0.1, affine=True, track_running_stats=True)\n",
              "    (2): LeakyReLU(negative_slope=0.2, inplace=True)\n",
              "    (3): Conv2d(64, 128, kernel_size=(4, 4), stride=(2, 2), padding=(1, 1), bias=False)\n",
              "    (4): BatchNorm2d(128, eps=1e-05, momentum=0.1, affine=True, track_running_stats=True)\n",
              "    (5): LeakyReLU(negative_slope=0.2, inplace=True)\n",
              "    (6): Conv2d(128, 256, kernel_size=(4, 4), stride=(2, 2), padding=(1, 1), bias=False)\n",
              "    (7): BatchNorm2d(256, eps=1e-05, momentum=0.1, affine=True, track_running_stats=True)\n",
              "    (8): LeakyReLU(negative_slope=0.2, inplace=True)\n",
              "    (9): Conv2d(256, 512, kernel_size=(4, 4), stride=(2, 2), padding=(1, 1), bias=False)\n",
              "    (10): BatchNorm2d(512, eps=1e-05, momentum=0.1, affine=True, track_running_stats=True)\n",
              "    (11): LeakyReLU(negative_slope=0.2, inplace=True)\n",
              "    (12): Conv2d(512, 1, kernel_size=(4, 4), stride=(1, 1), bias=False)\n",
              "    (13): Sigmoid()\n",
              "  )\n",
              ")"
            ]
          },
          "metadata": {},
          "execution_count": 8
        }
      ]
    },
    {
      "cell_type": "code",
      "source": [
        "criterion = torch.nn.BCELoss()\n",
        "\n",
        "real_label = 1\n",
        "fake_label = 0\n",
        "\n",
        "optimizerD = torch.optim.Adam(netD.parameters(), lr=0.0002, betas=(0.5, 0.999), amsgrad=True)\n",
        "optimizerG = torch.optim.Adam(netG.parameters(), lr=0.0008, betas=(0.5, 0.999), amsgrad=True)\n",
        "\n",
        "torch.autograd.set_detect_anomaly(False)"
      ],
      "metadata": {
        "id": "Y8wpldWTKIJv",
        "colab": {
          "base_uri": "https://localhost:8080/"
        },
        "outputId": "7f3f9c4a-f10b-444b-c66f-633af948cf72"
      },
      "execution_count": 9,
      "outputs": [
        {
          "output_type": "execute_result",
          "data": {
            "text/plain": [
              "<torch.autograd.anomaly_mode.set_detect_anomaly at 0x7f0b93c80ed0>"
            ]
          },
          "metadata": {},
          "execution_count": 9
        }
      ]
    },
    {
      "cell_type": "code",
      "source": [
        "import matplotlib.pyplot as plt\n",
        "import numpy as np\n",
        "\n",
        "def plot(img):\n",
        "    plt.style.use('dark_background')\n",
        "    plt.subplot(1,2,2)\n",
        "    plt.axis(\"off\")\n",
        "    plt.title(\"fake images\")\n",
        "    plt.imshow(np.transpose(img.cpu(),(1,2,0)))\n",
        "    plt.show()"
      ],
      "metadata": {
        "id": "ie6yc0oO-kic"
      },
      "execution_count": 10,
      "outputs": []
    },
    {
      "cell_type": "code",
      "source": [
        "G_loss = []\n",
        "D_loss = []\n",
        "num = 50\n",
        "\n",
        "netG.zero_grad()\n",
        "print(\"Starting Training Loop...\")\n",
        "for epoch in range(num):\n",
        "    eD, eG, D_x, D_G_z1, D_G_z2 = 0, 0, 0, 0, 0\n",
        "    for i, data in enumerate(tqdm(imgtrainDataLoader)):\n",
        "        real_cpu, tag = data\n",
        "        real_cpu = real_cpu.to(device)\n",
        "        tag = tag.to(device).unsqueeze(1).long()\n",
        "        b_size = data[0].size(0)\n",
        "        label = torch.full((b_size,), real_label, dtype=torch.float).to(device)\n",
        "\n",
        "        noise = torch.randn(b_size, nz).to(device)\n",
        "        fake = netG(noise, tag)\n",
        "        fake.detach()\n",
        "\n",
        "        netD.zero_grad()\n",
        "        output = netD(real_cpu, tag).squeeze()\n",
        "        errD_real = criterion(output, label)\n",
        "        errD_real.backward()\n",
        "        D_x += output.mean().item()\n",
        "\n",
        "        label.fill_(fake_label)\n",
        "        output = netD(fake, tag).squeeze()\n",
        "        errD_fake = criterion(output, label)\n",
        "        errD_fake.backward()\n",
        "        D_G_z1 += output.mean().item()\n",
        "        errD = errD_real + errD_fake\n",
        "        eD += errD\n",
        "        optimizerD.step()\n",
        "\n",
        "        netG.zero_grad()\n",
        "        label.fill_(real_label)\n",
        "        fake = netG(noise, tag)\n",
        "        output = netD(fake, tag).squeeze()\n",
        "        errG = criterion(output, label)\n",
        "        eG += errG\n",
        "        errG.backward()\n",
        "        D_G_z2 += output.mean().item()\n",
        "        optimizerG.step()\n",
        "        netG.zero_grad()\n",
        "\n",
        "    D_loss.append(eD.data.cpu().numpy()/len(imgtrainDataLoader))\n",
        "    G_loss.append(eG.data.cpu().numpy()/len(imgtrainDataLoader))\n",
        "\n",
        "    print('[%d/%d]\\tLoss_D: %.4f\\tLoss_G: %.4f\\tD(x): %.4f\\tD(G(z)): %.4f / %.4f'\n",
        "            % (epoch, num,\n",
        "            eD/len(imgtrainDataLoader), eG/len(imgtrainDataLoader),\n",
        "            D_x/len(imgtrainDataLoader), D_G_z1/len(imgtrainDataLoader), D_G_z2/len(imgtrainDataLoader)))"
      ],
      "metadata": {
        "id": "mvyXDQjTKm2Z",
        "colab": {
          "base_uri": "https://localhost:8080/"
        },
        "outputId": "cdd83603-30e0-462d-f037-7f3d8407b9c6"
      },
      "execution_count": 11,
      "outputs": [
        {
          "output_type": "stream",
          "name": "stdout",
          "text": [
            "Starting Training Loop...\n"
          ]
        },
        {
          "output_type": "stream",
          "name": "stderr",
          "text": [
            "100%|██████████| 235/235 [02:25<00:00,  1.61it/s]\n"
          ]
        },
        {
          "output_type": "stream",
          "name": "stdout",
          "text": [
            "[0/50]\tLoss_D: 1.9081\tLoss_G: 5.4935\tD(x): 0.5881\tD(G(z)): 0.4095 / 0.0272\n"
          ]
        },
        {
          "output_type": "stream",
          "name": "stderr",
          "text": [
            "100%|██████████| 235/235 [02:28<00:00,  1.58it/s]\n"
          ]
        },
        {
          "output_type": "stream",
          "name": "stdout",
          "text": [
            "[1/50]\tLoss_D: 0.9108\tLoss_G: 5.0942\tD(x): 0.7613\tD(G(z)): 0.2365 / 0.0292\n"
          ]
        },
        {
          "output_type": "stream",
          "name": "stderr",
          "text": [
            "100%|██████████| 235/235 [02:29<00:00,  1.57it/s]\n"
          ]
        },
        {
          "output_type": "stream",
          "name": "stdout",
          "text": [
            "[2/50]\tLoss_D: 0.7012\tLoss_G: 3.2759\tD(x): 0.7693\tD(G(z)): 0.2232 / 0.0710\n"
          ]
        },
        {
          "output_type": "stream",
          "name": "stderr",
          "text": [
            "100%|██████████| 235/235 [02:29<00:00,  1.57it/s]\n"
          ]
        },
        {
          "output_type": "stream",
          "name": "stdout",
          "text": [
            "[3/50]\tLoss_D: 0.5571\tLoss_G: 3.2053\tD(x): 0.8109\tD(G(z)): 0.1855 / 0.0941\n"
          ]
        },
        {
          "output_type": "stream",
          "name": "stderr",
          "text": [
            "100%|██████████| 235/235 [02:29<00:00,  1.57it/s]\n"
          ]
        },
        {
          "output_type": "stream",
          "name": "stdout",
          "text": [
            "[4/50]\tLoss_D: 0.8650\tLoss_G: 2.3261\tD(x): 0.7168\tD(G(z)): 0.2820 / 0.1749\n"
          ]
        },
        {
          "output_type": "stream",
          "name": "stderr",
          "text": [
            "100%|██████████| 235/235 [02:29<00:00,  1.57it/s]\n"
          ]
        },
        {
          "output_type": "stream",
          "name": "stdout",
          "text": [
            "[5/50]\tLoss_D: 1.0938\tLoss_G: 1.5632\tD(x): 0.6333\tD(G(z)): 0.3637 / 0.2697\n"
          ]
        },
        {
          "output_type": "stream",
          "name": "stderr",
          "text": [
            "100%|██████████| 235/235 [02:29<00:00,  1.57it/s]\n"
          ]
        },
        {
          "output_type": "stream",
          "name": "stdout",
          "text": [
            "[6/50]\tLoss_D: 1.0778\tLoss_G: 1.5320\tD(x): 0.6355\tD(G(z)): 0.3616 / 0.2773\n"
          ]
        },
        {
          "output_type": "stream",
          "name": "stderr",
          "text": [
            "100%|██████████| 235/235 [02:29<00:00,  1.57it/s]\n"
          ]
        },
        {
          "output_type": "stream",
          "name": "stdout",
          "text": [
            "[7/50]\tLoss_D: 1.1082\tLoss_G: 1.4390\tD(x): 0.6243\tD(G(z)): 0.3749 / 0.2933\n"
          ]
        },
        {
          "output_type": "stream",
          "name": "stderr",
          "text": [
            "100%|██████████| 235/235 [02:29<00:00,  1.57it/s]\n"
          ]
        },
        {
          "output_type": "stream",
          "name": "stdout",
          "text": [
            "[8/50]\tLoss_D: 1.0788\tLoss_G: 1.4770\tD(x): 0.6334\tD(G(z)): 0.3638 / 0.2921\n"
          ]
        },
        {
          "output_type": "stream",
          "name": "stderr",
          "text": [
            "100%|██████████| 235/235 [02:29<00:00,  1.57it/s]\n"
          ]
        },
        {
          "output_type": "stream",
          "name": "stdout",
          "text": [
            "[9/50]\tLoss_D: 1.0657\tLoss_G: 1.5479\tD(x): 0.6400\tD(G(z)): 0.3586 / 0.2802\n"
          ]
        },
        {
          "output_type": "stream",
          "name": "stderr",
          "text": [
            "100%|██████████| 235/235 [02:29<00:00,  1.57it/s]\n"
          ]
        },
        {
          "output_type": "stream",
          "name": "stdout",
          "text": [
            "[10/50]\tLoss_D: 1.0926\tLoss_G: 1.4754\tD(x): 0.6302\tD(G(z)): 0.3683 / 0.2926\n"
          ]
        },
        {
          "output_type": "stream",
          "name": "stderr",
          "text": [
            "100%|██████████| 235/235 [02:29<00:00,  1.57it/s]\n"
          ]
        },
        {
          "output_type": "stream",
          "name": "stdout",
          "text": [
            "[11/50]\tLoss_D: 1.0559\tLoss_G: 1.4525\tD(x): 0.6370\tD(G(z)): 0.3610 / 0.2925\n"
          ]
        },
        {
          "output_type": "stream",
          "name": "stderr",
          "text": [
            "100%|██████████| 235/235 [02:29<00:00,  1.57it/s]\n"
          ]
        },
        {
          "output_type": "stream",
          "name": "stdout",
          "text": [
            "[12/50]\tLoss_D: 1.0652\tLoss_G: 1.4557\tD(x): 0.6357\tD(G(z)): 0.3625 / 0.2931\n"
          ]
        },
        {
          "output_type": "stream",
          "name": "stderr",
          "text": [
            "100%|██████████| 235/235 [02:29<00:00,  1.57it/s]\n"
          ]
        },
        {
          "output_type": "stream",
          "name": "stdout",
          "text": [
            "[13/50]\tLoss_D: 1.0153\tLoss_G: 1.5534\tD(x): 0.6510\tD(G(z)): 0.3482 / 0.2712\n"
          ]
        },
        {
          "output_type": "stream",
          "name": "stderr",
          "text": [
            "100%|██████████| 235/235 [02:29<00:00,  1.57it/s]\n"
          ]
        },
        {
          "output_type": "stream",
          "name": "stdout",
          "text": [
            "[14/50]\tLoss_D: 1.0002\tLoss_G: 1.5849\tD(x): 0.6546\tD(G(z)): 0.3427 / 0.2641\n"
          ]
        },
        {
          "output_type": "stream",
          "name": "stderr",
          "text": [
            "100%|██████████| 235/235 [02:29<00:00,  1.57it/s]\n"
          ]
        },
        {
          "output_type": "stream",
          "name": "stdout",
          "text": [
            "[15/50]\tLoss_D: 0.9995\tLoss_G: 1.5926\tD(x): 0.6577\tD(G(z)): 0.3400 / 0.2677\n"
          ]
        },
        {
          "output_type": "stream",
          "name": "stderr",
          "text": [
            "100%|██████████| 235/235 [02:29<00:00,  1.57it/s]\n"
          ]
        },
        {
          "output_type": "stream",
          "name": "stdout",
          "text": [
            "[16/50]\tLoss_D: 0.9628\tLoss_G: 1.6660\tD(x): 0.6691\tD(G(z)): 0.3301 / 0.2508\n"
          ]
        },
        {
          "output_type": "stream",
          "name": "stderr",
          "text": [
            "100%|██████████| 235/235 [02:29<00:00,  1.57it/s]\n"
          ]
        },
        {
          "output_type": "stream",
          "name": "stdout",
          "text": [
            "[17/50]\tLoss_D: 0.9239\tLoss_G: 1.7277\tD(x): 0.6786\tD(G(z)): 0.3200 / 0.2374\n"
          ]
        },
        {
          "output_type": "stream",
          "name": "stderr",
          "text": [
            "100%|██████████| 235/235 [02:29<00:00,  1.57it/s]\n"
          ]
        },
        {
          "output_type": "stream",
          "name": "stdout",
          "text": [
            "[18/50]\tLoss_D: 0.9492\tLoss_G: 1.7616\tD(x): 0.6783\tD(G(z)): 0.3197 / 0.2411\n"
          ]
        },
        {
          "output_type": "stream",
          "name": "stderr",
          "text": [
            "100%|██████████| 235/235 [02:29<00:00,  1.57it/s]\n"
          ]
        },
        {
          "output_type": "stream",
          "name": "stdout",
          "text": [
            "[19/50]\tLoss_D: 0.9913\tLoss_G: 1.6279\tD(x): 0.6637\tD(G(z)): 0.3350 / 0.2608\n"
          ]
        },
        {
          "output_type": "stream",
          "name": "stderr",
          "text": [
            "100%|██████████| 235/235 [02:29<00:00,  1.57it/s]\n"
          ]
        },
        {
          "output_type": "stream",
          "name": "stdout",
          "text": [
            "[20/50]\tLoss_D: 0.9315\tLoss_G: 1.7410\tD(x): 0.6776\tD(G(z)): 0.3190 / 0.2353\n"
          ]
        },
        {
          "output_type": "stream",
          "name": "stderr",
          "text": [
            "100%|██████████| 235/235 [02:29<00:00,  1.58it/s]\n"
          ]
        },
        {
          "output_type": "stream",
          "name": "stdout",
          "text": [
            "[21/50]\tLoss_D: 0.9671\tLoss_G: 1.6815\tD(x): 0.6725\tD(G(z)): 0.3265 / 0.2539\n"
          ]
        },
        {
          "output_type": "stream",
          "name": "stderr",
          "text": [
            "100%|██████████| 235/235 [02:29<00:00,  1.57it/s]\n"
          ]
        },
        {
          "output_type": "stream",
          "name": "stdout",
          "text": [
            "[22/50]\tLoss_D: 0.9496\tLoss_G: 1.6731\tD(x): 0.6721\tD(G(z)): 0.3262 / 0.2483\n"
          ]
        },
        {
          "output_type": "stream",
          "name": "stderr",
          "text": [
            "100%|██████████| 235/235 [02:29<00:00,  1.57it/s]\n"
          ]
        },
        {
          "output_type": "stream",
          "name": "stdout",
          "text": [
            "[23/50]\tLoss_D: 0.9293\tLoss_G: 1.7225\tD(x): 0.6827\tD(G(z)): 0.3161 / 0.2453\n"
          ]
        },
        {
          "output_type": "stream",
          "name": "stderr",
          "text": [
            "100%|██████████| 235/235 [02:29<00:00,  1.57it/s]\n"
          ]
        },
        {
          "output_type": "stream",
          "name": "stdout",
          "text": [
            "[24/50]\tLoss_D: 0.9066\tLoss_G: 1.7510\tD(x): 0.6883\tD(G(z)): 0.3110 / 0.2385\n"
          ]
        },
        {
          "output_type": "stream",
          "name": "stderr",
          "text": [
            "100%|██████████| 235/235 [02:29<00:00,  1.57it/s]\n"
          ]
        },
        {
          "output_type": "stream",
          "name": "stdout",
          "text": [
            "[25/50]\tLoss_D: 0.9213\tLoss_G: 1.7745\tD(x): 0.6849\tD(G(z)): 0.3130 / 0.2329\n"
          ]
        },
        {
          "output_type": "stream",
          "name": "stderr",
          "text": [
            "100%|██████████| 235/235 [02:29<00:00,  1.57it/s]\n"
          ]
        },
        {
          "output_type": "stream",
          "name": "stdout",
          "text": [
            "[26/50]\tLoss_D: 0.9117\tLoss_G: 1.7287\tD(x): 0.6847\tD(G(z)): 0.3124 / 0.2402\n"
          ]
        },
        {
          "output_type": "stream",
          "name": "stderr",
          "text": [
            "100%|██████████| 235/235 [02:29<00:00,  1.57it/s]\n"
          ]
        },
        {
          "output_type": "stream",
          "name": "stdout",
          "text": [
            "[27/50]\tLoss_D: 0.8319\tLoss_G: 1.9131\tD(x): 0.7114\tD(G(z)): 0.2878 / 0.2117\n"
          ]
        },
        {
          "output_type": "stream",
          "name": "stderr",
          "text": [
            "100%|██████████| 235/235 [02:29<00:00,  1.57it/s]\n"
          ]
        },
        {
          "output_type": "stream",
          "name": "stdout",
          "text": [
            "[28/50]\tLoss_D: 0.8835\tLoss_G: 1.8975\tD(x): 0.7004\tD(G(z)): 0.2979 / 0.2225\n"
          ]
        },
        {
          "output_type": "stream",
          "name": "stderr",
          "text": [
            "100%|██████████| 235/235 [02:29<00:00,  1.57it/s]\n"
          ]
        },
        {
          "output_type": "stream",
          "name": "stdout",
          "text": [
            "[29/50]\tLoss_D: 0.9011\tLoss_G: 1.7846\tD(x): 0.6918\tD(G(z)): 0.3069 / 0.2319\n"
          ]
        },
        {
          "output_type": "stream",
          "name": "stderr",
          "text": [
            "100%|██████████| 235/235 [02:29<00:00,  1.57it/s]\n"
          ]
        },
        {
          "output_type": "stream",
          "name": "stdout",
          "text": [
            "[30/50]\tLoss_D: 0.8936\tLoss_G: 1.7795\tD(x): 0.6924\tD(G(z)): 0.3066 / 0.2351\n"
          ]
        },
        {
          "output_type": "stream",
          "name": "stderr",
          "text": [
            "100%|██████████| 235/235 [02:29<00:00,  1.57it/s]\n"
          ]
        },
        {
          "output_type": "stream",
          "name": "stdout",
          "text": [
            "[31/50]\tLoss_D: 0.8464\tLoss_G: 1.8850\tD(x): 0.7073\tD(G(z)): 0.2901 / 0.2174\n"
          ]
        },
        {
          "output_type": "stream",
          "name": "stderr",
          "text": [
            "100%|██████████| 235/235 [02:29<00:00,  1.57it/s]\n"
          ]
        },
        {
          "output_type": "stream",
          "name": "stdout",
          "text": [
            "[32/50]\tLoss_D: 0.8950\tLoss_G: 1.8430\tD(x): 0.6962\tD(G(z)): 0.3040 / 0.2308\n"
          ]
        },
        {
          "output_type": "stream",
          "name": "stderr",
          "text": [
            "100%|██████████| 235/235 [02:29<00:00,  1.57it/s]\n"
          ]
        },
        {
          "output_type": "stream",
          "name": "stdout",
          "text": [
            "[33/50]\tLoss_D: 0.8773\tLoss_G: 1.8329\tD(x): 0.6984\tD(G(z)): 0.2992 / 0.2256\n"
          ]
        },
        {
          "output_type": "stream",
          "name": "stderr",
          "text": [
            "100%|██████████| 235/235 [02:29<00:00,  1.57it/s]\n"
          ]
        },
        {
          "output_type": "stream",
          "name": "stdout",
          "text": [
            "[34/50]\tLoss_D: 0.8836\tLoss_G: 1.8549\tD(x): 0.6978\tD(G(z)): 0.3021 / 0.2227\n"
          ]
        },
        {
          "output_type": "stream",
          "name": "stderr",
          "text": [
            "100%|██████████| 235/235 [02:29<00:00,  1.57it/s]\n"
          ]
        },
        {
          "output_type": "stream",
          "name": "stdout",
          "text": [
            "[35/50]\tLoss_D: 0.8797\tLoss_G: 1.7945\tD(x): 0.6987\tD(G(z)): 0.2992 / 0.2315\n"
          ]
        },
        {
          "output_type": "stream",
          "name": "stderr",
          "text": [
            "100%|██████████| 235/235 [02:29<00:00,  1.57it/s]\n"
          ]
        },
        {
          "output_type": "stream",
          "name": "stdout",
          "text": [
            "[36/50]\tLoss_D: 0.9090\tLoss_G: 1.7769\tD(x): 0.6928\tD(G(z)): 0.3067 / 0.2381\n"
          ]
        },
        {
          "output_type": "stream",
          "name": "stderr",
          "text": [
            "100%|██████████| 235/235 [02:29<00:00,  1.57it/s]\n"
          ]
        },
        {
          "output_type": "stream",
          "name": "stdout",
          "text": [
            "[37/50]\tLoss_D: 0.8626\tLoss_G: 1.8024\tD(x): 0.7024\tD(G(z)): 0.2973 / 0.2310\n"
          ]
        },
        {
          "output_type": "stream",
          "name": "stderr",
          "text": [
            "100%|██████████| 235/235 [02:29<00:00,  1.57it/s]\n"
          ]
        },
        {
          "output_type": "stream",
          "name": "stdout",
          "text": [
            "[38/50]\tLoss_D: 0.8725\tLoss_G: 1.8547\tD(x): 0.7019\tD(G(z)): 0.2960 / 0.2227\n"
          ]
        },
        {
          "output_type": "stream",
          "name": "stderr",
          "text": [
            "100%|██████████| 235/235 [02:29<00:00,  1.57it/s]\n"
          ]
        },
        {
          "output_type": "stream",
          "name": "stdout",
          "text": [
            "[39/50]\tLoss_D: 0.8413\tLoss_G: 1.9019\tD(x): 0.7101\tD(G(z)): 0.2887 / 0.2130\n"
          ]
        },
        {
          "output_type": "stream",
          "name": "stderr",
          "text": [
            "100%|██████████| 235/235 [02:29<00:00,  1.57it/s]\n"
          ]
        },
        {
          "output_type": "stream",
          "name": "stdout",
          "text": [
            "[40/50]\tLoss_D: 0.8509\tLoss_G: 1.9010\tD(x): 0.7102\tD(G(z)): 0.2887 / 0.2176\n"
          ]
        },
        {
          "output_type": "stream",
          "name": "stderr",
          "text": [
            "100%|██████████| 235/235 [02:29<00:00,  1.57it/s]\n"
          ]
        },
        {
          "output_type": "stream",
          "name": "stdout",
          "text": [
            "[41/50]\tLoss_D: 0.7988\tLoss_G: 1.9541\tD(x): 0.7210\tD(G(z)): 0.2759 / 0.2065\n"
          ]
        },
        {
          "output_type": "stream",
          "name": "stderr",
          "text": [
            "100%|██████████| 235/235 [02:29<00:00,  1.57it/s]\n"
          ]
        },
        {
          "output_type": "stream",
          "name": "stdout",
          "text": [
            "[42/50]\tLoss_D: 0.8718\tLoss_G: 1.9205\tD(x): 0.7067\tD(G(z)): 0.2929 / 0.2167\n"
          ]
        },
        {
          "output_type": "stream",
          "name": "stderr",
          "text": [
            "100%|██████████| 235/235 [02:29<00:00,  1.57it/s]\n"
          ]
        },
        {
          "output_type": "stream",
          "name": "stdout",
          "text": [
            "[43/50]\tLoss_D: 0.8574\tLoss_G: 1.9105\tD(x): 0.7085\tD(G(z)): 0.2907 / 0.2185\n"
          ]
        },
        {
          "output_type": "stream",
          "name": "stderr",
          "text": [
            "100%|██████████| 235/235 [02:29<00:00,  1.57it/s]\n"
          ]
        },
        {
          "output_type": "stream",
          "name": "stdout",
          "text": [
            "[44/50]\tLoss_D: 0.8198\tLoss_G: 1.9244\tD(x): 0.7168\tD(G(z)): 0.2824 / 0.2118\n"
          ]
        },
        {
          "output_type": "stream",
          "name": "stderr",
          "text": [
            "100%|██████████| 235/235 [02:29<00:00,  1.57it/s]\n"
          ]
        },
        {
          "output_type": "stream",
          "name": "stdout",
          "text": [
            "[45/50]\tLoss_D: 0.8244\tLoss_G: 1.9087\tD(x): 0.7141\tD(G(z)): 0.2842 / 0.2132\n"
          ]
        },
        {
          "output_type": "stream",
          "name": "stderr",
          "text": [
            "100%|██████████| 235/235 [02:29<00:00,  1.57it/s]\n"
          ]
        },
        {
          "output_type": "stream",
          "name": "stdout",
          "text": [
            "[46/50]\tLoss_D: 0.8611\tLoss_G: 1.8796\tD(x): 0.7074\tD(G(z)): 0.2919 / 0.2216\n"
          ]
        },
        {
          "output_type": "stream",
          "name": "stderr",
          "text": [
            "100%|██████████| 235/235 [02:29<00:00,  1.57it/s]\n"
          ]
        },
        {
          "output_type": "stream",
          "name": "stdout",
          "text": [
            "[47/50]\tLoss_D: 0.8250\tLoss_G: 1.9191\tD(x): 0.7151\tD(G(z)): 0.2829 / 0.2113\n"
          ]
        },
        {
          "output_type": "stream",
          "name": "stderr",
          "text": [
            "100%|██████████| 235/235 [02:29<00:00,  1.57it/s]\n"
          ]
        },
        {
          "output_type": "stream",
          "name": "stdout",
          "text": [
            "[48/50]\tLoss_D: 0.8174\tLoss_G: 1.9998\tD(x): 0.7214\tD(G(z)): 0.2775 / 0.2030\n"
          ]
        },
        {
          "output_type": "stream",
          "name": "stderr",
          "text": [
            "100%|██████████| 235/235 [02:29<00:00,  1.57it/s]"
          ]
        },
        {
          "output_type": "stream",
          "name": "stdout",
          "text": [
            "[49/50]\tLoss_D: 0.8328\tLoss_G: 1.9207\tD(x): 0.7139\tD(G(z)): 0.2842 / 0.2171\n"
          ]
        },
        {
          "output_type": "stream",
          "name": "stderr",
          "text": [
            "\n"
          ]
        }
      ]
    },
    {
      "cell_type": "code",
      "source": [
        "torch.save(netG.state_dict(), 'mount/MyDrive/gen.pt')\n",
        "plot(tv.utils.make_grid(fake[:-16], padding=2, normalize=True).cpu())"
      ],
      "metadata": {
        "colab": {
          "base_uri": "https://localhost:8080/",
          "height": 237
        },
        "id": "4JgYwirCz2is",
        "outputId": "a41c8765-9949-470c-da9f-3434d2cd1dcc"
      },
      "execution_count": 12,
      "outputs": [
        {
          "output_type": "display_data",
          "data": {
            "text/plain": [
              "<Figure size 432x288 with 1 Axes>"
            ],
            "image/png": "[encoded data removed]"
          },
          "metadata": {}
        }
      ]
    },
    {
      "cell_type": "code",
      "source": [
        "import matplotlib.pyplot as plt\n",
        "\n",
        "plt.style.use('dark_background')\n",
        "plt.plot(range(len(G_loss)),G_loss,'-',linewidth=3,label='Generator error')\n",
        "plt.plot(range(len(D_loss)),D_loss,'-',linewidth=3,label='Disciminator error')\n",
        "plt.xlabel('epoch')\n",
        "plt.ylabel('loss')\n",
        "plt.grid(True)\n",
        "plt.legend()"
      ],
      "metadata": {
        "id": "0yD-_gr6uJNS",
        "colab": {
          "base_uri": "https://localhost:8080/",
          "height": 297
        },
        "outputId": "ffa03fca-4c5e-45ea-8fd9-e1a1e1a1d665"
      },
      "execution_count": 13,
      "outputs": [
        {
          "output_type": "execute_result",
          "data": {
            "text/plain": [
              "<matplotlib.legend.Legend at 0x7f0abe17f4d0>"
            ]
          },
          "metadata": {},
          "execution_count": 13
        },
        {
          "output_type": "display_data",
          "data": {
            "text/plain": [
              "<Figure size 432x288 with 1 Axes>"
            ],
            "image/png": "[encoded data removed]"
          },
          "metadata": {}
        }
      ]
    },
    {
      "cell_type": "code",
      "source": [
        ""
      ],
      "metadata": {
        "id": "xvq1gldFLpmi"
      },
      "execution_count": 13,
      "outputs": []
    }
  ]
}
