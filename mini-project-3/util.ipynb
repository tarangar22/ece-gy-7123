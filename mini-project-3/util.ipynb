{
  "cells": [
    {
      "cell_type": "code",
      "execution_count": null,
      "metadata": {
        "colab": {
          "base_uri": "https://localhost:8080/"
        },
        "id": "KsKnroqlveuY",
        "outputId": "a5d6be9b-14e8-41c9-8c9a-92a276927dac"
      },
      "outputs": [
        {
          "output_type": "stream",
          "name": "stdout",
          "text": [
            "Mounted at mount/\n",
            "cuda:0\n"
          ]
        }
      ],
      "source": [
        "from google.colab import drive\n",
        "import torch\n",
        "\n",
        "drive.mount('mount/')\n",
        "device = torch.device(\"cuda:0\" if (torch.cuda.is_available()) else \"cpu\")\n",
        "print(device)"
      ]
    },
    {
      "cell_type": "markdown",
      "source": [
        "```\n",
        "# Uncomment the following block if running for the first time\n",
        "```"
      ],
      "metadata": {
        "id": "B2LjEdEVgu75"
      }
    },
    {
      "cell_type": "code",
      "execution_count": null,
      "metadata": {
        "colab": {
          "base_uri": "https://localhost:8080/"
        },
        "id": "3yU1kWjKw3V9",
        "outputId": "bf3a5630-8b39-4319-f4f9-b8e7a59bec23"
      },
      "outputs": [
        {
          "output_type": "stream",
          "name": "stdout",
          "text": [
            "Cloning into 'AudioMNIST'...\n",
            "remote: Enumerating objects: 30119, done.\u001b[K\n",
            "remote: Total 30119 (delta 0), reused 0 (delta 0), pack-reused 30119\u001b[K\n",
            "Receiving objects: 100% (30119/30119), 944.54 MiB | 27.10 MiB/s, done.\n",
            "Resolving deltas: 100% (26/26), done.\n",
            "Checking out files: 100% (30018/30018), done.\n",
            "mkdir: cannot create directory ‘mount/MyDrive/audiomnist’: File exists\n"
          ]
        }
      ],
      "source": [
        "!git clone https://github.com/soerenab/AudioMNIST\n",
        "!rm -rf AudioMNIST/data/[1-5]*\n",
        "!mkdir mount/MyDrive/audiomnist\n",
        "!mv AudioMNIST/data/*/* mount/MyDrive/audiomnist"
      ]
    },
    {
      "cell_type": "code",
      "execution_count": null,
      "metadata": {
        "id": "fYVBvxTWwNNN"
      },
      "outputs": [],
      "source": [
        "import os\n",
        "import numpy as np\n",
        "import csv\n",
        "\n",
        "data_path = 'mount/MyDrive/audiomnist/'\n",
        "label_path = 'mount/MyDrive/labels.csv'\n",
        "\n",
        "data = [f for f in os.listdir(data_path)]\n",
        "labels = []\n",
        "for i in data:\n",
        "  labels.append(i[0])\n",
        "\n",
        "with open(label_path, 'w') as f:\n",
        "  write = csv.writer(f)\n",
        "  write.writerows(np.vstack((data,labels)).T)\n",
        "f.close()"
      ]
    },
    {
      "cell_type": "code",
      "source": [
        "print(data[0])"
      ],
      "metadata": {
        "colab": {
          "base_uri": "https://localhost:8080/"
        },
        "id": "eb1SFKPBAyCj",
        "outputId": "1629b81c-52fe-41ee-e30f-15004e8fc7d3"
      },
      "execution_count": null,
      "outputs": [
        {
          "output_type": "stream",
          "name": "stdout",
          "text": [
            "0_09_10.wav\n"
          ]
        }
      ]
    },
    {
      "cell_type": "code",
      "execution_count": null,
      "metadata": {
        "id": "TqrFYQepy3F7"
      },
      "outputs": [],
      "source": [
        "from torch.utils.data import Dataset\n",
        "import pandas as pd\n",
        "from os import path\n",
        "import torchaudio as ta\n",
        "\n",
        "n_fft = 2048\n",
        "win_length = None\n",
        "hop_length = 512\n",
        "n_mels = 512\n",
        "n_mfcc = 13\n",
        "\n",
        "mfcc_transform = ta.transforms.MFCC(\n",
        "    sample_rate=8000,\n",
        "    n_mfcc=n_mfcc,\n",
        "    melkwargs={\n",
        "      'n_fft': n_fft,\n",
        "      # 'n_mels': n_mels,\n",
        "      'hop_length': hop_length,\n",
        "      'mel_scale': 'htk',\n",
        "    })\n",
        "\n",
        "class AudioMNIST(Dataset):\n",
        "    def __init__(self, labels, data, transform=None, target_transform=None):\n",
        "        self.labels = pd.read_csv(labels, header=None)\n",
        "        self.data = data\n",
        "        self.transform = transform\n",
        "        self.target_transform = target_transform\n",
        "\n",
        "    def __len__(self):\n",
        "        return len(self.labels)\n",
        "\n",
        "    def __getitem__(self, idx):\n",
        "        path = os.path.join(self.data, self.labels.iloc[idx, 0])\n",
        "        wave, sr = ta.load(path, normalize=True)\n",
        "        label = self.labels.iloc[idx, 1]\n",
        "        if self.transform:\n",
        "            wave = ta.transforms.Resample(44100, 8000)(wave)\n",
        "            wave = mfcc_transform(wave)\n",
        "            wave = (wave-torch.mean(wave))/torch.std(wave)\n",
        "            wave = torch.cat((wave, torch.zeros(1, n_mfcc, 17-wave.size(2))), dim=2)\n",
        "        if self.target_transform:\n",
        "            label = self.target_transform(label)\n",
        "        return wave.T, label\n",
        "\n",
        "audiomnist = AudioMNIST(label_path, data_path, True)"
      ]
    },
    {
      "cell_type": "code",
      "execution_count": null,
      "metadata": {
        "id": "o6J7c3bGeJIN"
      },
      "outputs": [],
      "source": [
        "import torch\n",
        "import random\n",
        "import torch.nn.functional as F\n",
        "\n",
        "train, test = torch.utils.data.random_split(audiomnist, [4000, 1000], generator=torch.Generator().manual_seed(42))"
      ]
    },
    {
      "cell_type": "code",
      "execution_count": null,
      "metadata": {
        "colab": {
          "base_uri": "https://localhost:8080/",
          "height": 355
        },
        "id": "toHQ_wFs2_pb",
        "outputId": "4595f7f7-9014-4d22-a9eb-970fe91af489"
      },
      "outputs": [
        {
          "output_type": "stream",
          "name": "stdout",
          "text": [
            "torch.Size([17, 13, 1])\n"
          ]
        },
        {
          "output_type": "stream",
          "name": "stderr",
          "text": [
            "/usr/local/lib/python3.7/dist-packages/ipykernel_launcher.py:43: UserWarning: The use of `x.T` on tensors of dimension other than 2 to reverse their shape is deprecated and it will throw an error in a future release. Consider `x.mT` to transpose batches of matricesor `x.permute(*torch.arange(x.ndim - 1, -1, -1))` to reverse the dimensions of a tensor. (Triggered internally at  ../aten/src/ATen/native/TensorShape.cpp:2318.)\n"
          ]
        },
        {
          "output_type": "display_data",
          "data": {
            "text/plain": [
              "<Figure size 432x288 with 1 Axes>"
            ],
            "image/png": "[encoded data removed]"
          },
          "metadata": {
            "needs_background": "light"
          }
        },
        {
          "output_type": "stream",
          "name": "stdout",
          "text": [
            "0\n"
          ]
        }
      ],
      "source": [
        "import matplotlib.pyplot as plt\n",
        "import numpy as np\n",
        "from matplotlib import cm\n",
        "\n",
        "fig, ax = plt.subplots()\n",
        "print(audiomnist[0][0].size())\n",
        "mfcc_data= np.swapaxes(audiomnist[0][0].squeeze(), 0 ,1)\n",
        "cax = ax.imshow(mfcc_data, interpolation='nearest', cmap=cm.coolwarm, origin='lower')\n",
        "ax.set_title('MFCC')\n",
        "plt.show()\n",
        "print(audiomnist[0][1])"
      ]
    },
    {
      "cell_type": "code",
      "execution_count": null,
      "metadata": {
        "id": "bg9nAxJuzEmw"
      },
      "outputs": [],
      "source": [
        "!mkdir -p mount/MyDrive/audiomnist/train/wav\n",
        "!mkdir -p mount/MyDrive/audiomnist/train/mask\n",
        "!mkdir -p mount/MyDrive/audiomnist/test/wav\n",
        "!mkdir -p mount/MyDrive/audiomnist/test/mask"
      ]
    },
    {
      "cell_type": "code",
      "execution_count": null,
      "metadata": {
        "colab": {
          "base_uri": "https://localhost:8080/"
        },
        "id": "K06SB3kXzFQK",
        "outputId": "6a01ead6-0ada-49ac-a37a-4ed1219bcabf"
      },
      "outputs": [
        {
          "output_type": "stream",
          "name": "stderr",
          "text": [
            "100%|██████████| 4000/4000 [27:09<00:00,  2.45it/s]\n",
            "100%|██████████| 1000/1000 [06:26<00:00,  2.59it/s]\n"
          ]
        }
      ],
      "source": [
        "from tqdm import tqdm\n",
        "\n",
        "for i, data in enumerate(tqdm(train)):\n",
        "  torch.save(data[0], 'mount/MyDrive/audiomnist/train/wav/{}'.format(i))\n",
        "  torch.save(data[1], 'mount/MyDrive/audiomnist/train/mask/{}'.format(i))\n",
        "\n",
        "for i, data in enumerate(tqdm(test)):\n",
        "  torch.save(data[0], 'mount/MyDrive/audiomnist/test/wav/{}'.format(i))\n",
        "  torch.save(data[1], 'mount/MyDrive/audiomnist/test/mask/{}'.format(i))"
      ]
    },
    {
      "cell_type": "code",
      "source": [
        ""
      ],
      "metadata": {
        "id": "1jUJhvhBiaPC"
      },
      "execution_count": null,
      "outputs": []
    }
  ],
  "metadata": {
    "accelerator": "GPU",
    "colab": {
      "collapsed_sections": [],
      "name": "util.ipynb",
      "provenance": [],
      "authorship_tag": "ABX9TyOhqxAAxTj1Cn+0vE3Jw+2i"
    },
    "kernelspec": {
      "display_name": "Python 3",
      "name": "python3"
    },
    "language_info": {
      "name": "python"
    }
  },
  "nbformat": 4,
  "nbformat_minor": 0
}
