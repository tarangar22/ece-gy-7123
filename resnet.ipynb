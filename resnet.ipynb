{
  "cells": [
    {
      "cell_type": "code",
      "execution_count": 6,
      "metadata": {
        "id": "GvOZ-01EYl7B"
      },
      "outputs": [],
      "source": [
        "import numpy as np\n",
        "import torch\n",
        "import torchvision as tv\n",
        "import torch.nn.functional as F\n",
        "import matplotlib.pyplot as plt"
      ]
    },
    {
      "cell_type": "code",
      "execution_count": 7,
      "metadata": {
        "colab": {
          "base_uri": "https://localhost:8080/"
        },
        "id": "jmHiIA7aYngx",
        "outputId": "a2453610-3213-44fd-9784-0b1c45cc589d"
      },
      "outputs": [
        {
          "output_type": "stream",
          "name": "stdout",
          "text": [
            "Files already downloaded and verified\n",
            "Files already downloaded and verified\n"
          ]
        }
      ],
      "source": [
        "train_transform = tv.transforms.Compose([\n",
        "                tv.transforms.RandomHorizontalFlip(p=0.2),\n",
        "                tv.transforms.RandomVerticalFlip(p=0.2),\n",
        "                tv.transforms.RandomCrop(32, padding=2),\n",
        "                #tv.transforms.RandomRotation(degrees=(-90, 90), fill=(0,0,0)),\n",
        "                tv.transforms.ToTensor(),\n",
        "                tv.transforms.Normalize(mean = [0.49139968, 0.48215827, 0.44653124], std = [0.24703233, 0.24348505, 0.26158768])])\n",
        "\n",
        "test_transform = tv.transforms.Compose([\n",
        "                tv.transforms.ToTensor(),\n",
        "                tv.transforms.Normalize(mean = [0.49139968, 0.48215827, 0.44653124], std = [0.24703233, 0.24348505, 0.26158768])])\n",
        "\n",
        "trainingdata = tv.datasets.CIFAR10('../CIFAR10/',train=True,download=True, transform=train_transform)\n",
        "testdata = tv.datasets.CIFAR10('../CIFAR10/',train=False,download=True, transform=test_transform)"
      ]
    },
    {
      "cell_type": "code",
      "execution_count": 8,
      "metadata": {
        "id": "3v65YPt1YsA9"
      },
      "outputs": [],
      "source": [
        "trainDataLoader = torch.utils.data.DataLoader(trainingdata,batch_size=32,shuffle=True)\n",
        "testDataLoader = torch.utils.data.DataLoader(testdata,batch_size=32,shuffle=True)"
      ]
    },
    {
      "cell_type": "code",
      "execution_count": 9,
      "metadata": {
        "colab": {
          "base_uri": "https://localhost:8080/"
        },
        "id": "554A_KmKYzLz",
        "outputId": "af278f1a-884c-4881-e085-876eecf6f968"
      },
      "outputs": [
        {
          "output_type": "stream",
          "name": "stdout",
          "text": [
            "4896394\n"
          ]
        }
      ],
      "source": [
        "class BasicBlock(torch.nn.Module):\n",
        "\n",
        "    def __init__(self, in_planes, planes, stride=1):\n",
        "        super(BasicBlock, self).__init__()\n",
        "        self.conv1 = torch.nn.Conv2d(\n",
        "            in_planes, planes, kernel_size=3, stride=stride, padding=1, bias=False)\n",
        "        self.bn1 = torch.nn.BatchNorm2d(planes)\n",
        "        self.conv2 = torch.nn.Conv2d(planes, planes, kernel_size=3,\n",
        "                               stride=1, padding=1, bias=False)\n",
        "        self.bn2 = torch.nn.BatchNorm2d(planes)\n",
        "\n",
        "        self.shortcut = torch.nn.Sequential()\n",
        "        if stride != 1 or in_planes != planes:\n",
        "            self.shortcut = torch.nn.Sequential(\n",
        "                torch.nn.Conv2d(in_planes, planes,\n",
        "                          kernel_size=1, stride=stride, bias=False),\n",
        "                torch.nn.BatchNorm2d(planes)\n",
        "            )\n",
        "        self.path = tv.ops.stochastic_depth\n",
        "\n",
        "    def forward(self, x):\n",
        "        out = F.relu(self.bn1(self.conv1(x)))\n",
        "        out = self.bn2(self.conv2(out))\n",
        "        #out = self.path(out, p=0.1, mode=\"batch\")\n",
        "        out += self.shortcut(x)\n",
        "        out = F.relu(out)\n",
        "        return out\n",
        "\n",
        "\n",
        "\n",
        "class ResNet(torch.nn.Module):\n",
        "    def __init__(self, block, num_blocks, num_classes=10):\n",
        "        super(ResNet, self).__init__()\n",
        "        self.in_planes = 128\n",
        "\n",
        "        self.conv1 = torch.nn.Conv2d(3, 128, kernel_size=3,\n",
        "                               stride=1, padding=1, bias=False)\n",
        "        self.bn1 = torch.nn.BatchNorm2d(128)\n",
        "        self.layer1 = self._make_layer(block, 128, num_blocks[0], stride=1)\n",
        "        self.layer2 = self._make_layer(block, 256, num_blocks[1], stride=2)\n",
        "        self.layer3 = self._make_layer(block, 512, num_blocks[2], stride=2)\n",
        "        self.linear = torch.nn.Linear(512, num_classes)\n",
        "        self.drop = torch.nn.Dropout(0.2)\n",
        "\n",
        "    def _make_layer(self, block, planes, num_blocks, stride):\n",
        "        if num_blocks != 0:\n",
        "          strides = [stride] + [1]*(num_blocks-1)\n",
        "          layers = []\n",
        "          for stride in strides:\n",
        "              layers.append(block(self.in_planes, planes, stride))\n",
        "              self.in_planes = planes\n",
        "          return torch.nn.Sequential(*layers)\n",
        "\n",
        "    def forward(self, x):\n",
        "        out = F.relu(self.bn1(self.conv1(x)))\n",
        "        out = self.layer1(out)\n",
        "        out = self.layer2(out)\n",
        "        out = self.layer3(out)\n",
        "        out = F.avg_pool2d(out, 8)\n",
        "        #out = self.drop(out)\n",
        "        out = out.view(out.size(0), -1)\n",
        "        out = self.linear(out)\n",
        "        return out\n",
        "\n",
        "def init_weights(m):\n",
        "    if isinstance(m, torch.nn.Linear):\n",
        "        torch.nn.init.xavier_uniform_(m.weight)\n",
        "        m.bias.data.fill_(0.01)\n",
        "    elif isinstance(m, torch.nn.Conv2d):\n",
        "        torch.nn.init.kaiming_uniform_(m.weight, mode='fan_in', nonlinearity='relu')\n",
        "\n",
        "net = ResNet(BasicBlock, [1, 1, 1]).cuda()\n",
        "#net.apply(init_weights)\n",
        "Loss = torch.nn.CrossEntropyLoss(label_smoothing=0.2).cuda()\n",
        "optimizer = torch.optim.AdamW(net.parameters(), lr=0.004, amsgrad=True, weight_decay=0.02)\n",
        "#scheduler = torch.optim.lr_scheduler.CosineAnnealingWarmRestarts(optimizer, len(trainDataLoader))\n",
        "total_param = sum(p.numel() for p in net.parameters() if p.requires_grad)\n",
        "print(total_param)"
      ]
    },
    {
      "cell_type": "code",
      "execution_count": 10,
      "metadata": {
        "colab": {
          "base_uri": "https://localhost:8080/"
        },
        "id": "FjVudEn-Y1hl",
        "outputId": "4ee39b86-5801-4a9b-f29b-f6091f548c39"
      },
      "outputs": [
        {
          "output_type": "stream",
          "name": "stdout",
          "text": [
            "Epoch 0, Train loss 1.8894766176349433, Test loss 1.7090751294510809, Train accuracy 40.54502559181062, Test accuracy 51.80710862619808,\n",
            "Epoch 1, Train loss 1.607468044155311, Test loss 1.5173621569959506, Train accuracy 59.506957773512475, Test accuracy 65.6349840255591,\n",
            "Epoch 2, Train loss 1.493031828279913, Test loss 1.4400014690697778, Train accuracy 66.92058541266795, Test accuracy 70.72683706070288,\n",
            "Epoch 3, Train loss 1.4129086218807698, Test loss 1.374403958884292, Train accuracy 71.95297504798465, Test accuracy 74.79033546325878,\n",
            "Epoch 4, Train loss 1.3539663181805266, Test loss 1.3414682248910792, Train accuracy 75.69977607165707, Test accuracy 76.77715654952077,\n",
            "Epoch 5, Train loss 1.3125109523058076, Test loss 1.3064011533420303, Train accuracy 78.41090850927704, Test accuracy 78.90375399361022,\n",
            "Epoch 6, Train loss 1.2817068997668049, Test loss 1.2668698862337833, Train accuracy 80.16634676903391, Test accuracy 80.92052715654953,\n",
            "Epoch 7, Train loss 1.2557950085428258, Test loss 1.2519682504879404, Train accuracy 81.97976647472808, Test accuracy 82.12859424920129,\n",
            "Epoch 8, Train loss 1.2397956053415955, Test loss 1.2292927728293426, Train accuracy 82.79550543825975, Test accuracy 82.9273162939297,\n",
            "Epoch 9, Train loss 1.220944993631699, Test loss 1.2160219235922964, Train accuracy 83.84317018554063, Test accuracy 84.45487220447285,\n",
            "Epoch 10, Train loss 1.2111474642445457, Test loss 1.2176445238887315, Train accuracy 84.66290786948177, Test accuracy 84.04552715654953,\n",
            "Epoch 11, Train loss 1.1984143882551332, Test loss 1.197604508064806, Train accuracy 85.1927383237364, Test accuracy 85.54313099041534,\n",
            "Epoch 12, Train loss 1.1881769832249869, Test loss 1.189953287950339, Train accuracy 86.06645873320538, Test accuracy 85.98242811501598,\n",
            "Epoch 13, Train loss 1.1825240051525194, Test loss 1.1852247235112288, Train accuracy 86.40235124760076, Test accuracy 86.0223642172524,\n",
            "Epoch 14, Train loss 1.1714177804350194, Test loss 1.1782219166191996, Train accuracy 86.88619641714651, Test accuracy 86.66134185303514,\n",
            "Epoch 15, Train loss 1.1677825538225848, Test loss 1.195208592155872, Train accuracy 87.04814459373, Test accuracy 85.16373801916933,\n",
            "Epoch 16, Train loss 1.1613269418916563, Test loss 1.1896230155667566, Train accuracy 87.5, Test accuracy 85.50319488817891,\n",
            "Epoch 17, Train loss 1.1561511786641465, Test loss 1.1638732009802384, Train accuracy 87.75991682661548, Test accuracy 87.09065495207668,\n",
            "Epoch 18, Train loss 1.1502919570040557, Test loss 1.172034450232411, Train accuracy 88.17378438899551, Test accuracy 86.48162939297124,\n",
            "Epoch 19, Train loss 1.1470102849711363, Test loss 1.1613244355296184, Train accuracy 88.46769033909149, Test accuracy 87.29033546325878,\n",
            "Epoch 20, Train loss 1.1415030082600743, Test loss 1.1501698949085637, Train accuracy 88.64563339731286, Test accuracy 88.32867412140575,\n"
          ]
        }
      ],
      "source": [
        "train_loss_history = []\n",
        "test_loss_history = []\n",
        "\n",
        "train_acc_history = []\n",
        "test_acc_history = []\n",
        "\n",
        "best_loss = 10.0\n",
        "steps = 25\n",
        "for epoch in range(steps):\n",
        "  train_loss = 0.0\n",
        "  test_loss = 0.0\n",
        "  train_acc = 0.0\n",
        "  test_acc = 0.0\n",
        "\n",
        "  for i, data in enumerate(trainDataLoader):\n",
        "    images, labels = data\n",
        "    images = images.cuda()\n",
        "    labels = labels.cuda()\n",
        "    optimizer.zero_grad()\n",
        "    predicted_output = net(images).cuda()\n",
        "    fit = Loss(predicted_output,labels)\n",
        "    fit.backward()\n",
        "    optimizer.step()\n",
        "    #scheduler.step(epoch + i / len(trainDataLoader))\n",
        "    train_loss += fit.item()/len(trainDataLoader)\n",
        "    train_acc += (torch.eq(torch.max(predicted_output, 1)[1],labels).sum()/len(labels)*100).data.cpu().numpy()\n",
        "\n",
        "  for i, data in enumerate(testDataLoader):\n",
        "    with torch.no_grad():\n",
        "      images, labels = data\n",
        "      images = images.cuda()\n",
        "      labels = labels.cuda()\n",
        "      predicted_output = net(images).cuda()\n",
        "      fit = Loss(predicted_output,labels)\n",
        "      test_loss += fit.item()/len(testDataLoader)\n",
        "      test_acc += (torch.eq(torch.max(predicted_output, 1)[1],labels).sum()/len(labels)*100).data.cpu().numpy()\n",
        "\n",
        "  train_loss_history.append(train_loss)\n",
        "  test_loss_history.append(test_loss)\n",
        "  train_acc_history.append(train_acc/len(trainDataLoader))\n",
        "  test_acc_history.append(test_acc/len(testDataLoader))\n",
        "\n",
        "  if test_loss < best_loss:\n",
        "    torch.save(net.state_dict(), 'project1_model.pt')\n",
        "\n",
        "  print('Epoch %s, Train loss %s, Test loss %s, Train accuracy %s, Test accuracy %s,'\n",
        "    %(epoch, train_loss, test_loss, train_acc/len(trainDataLoader), test_acc/len(testDataLoader)))\n",
        "  \n",
        "  if test_acc/len(testDataLoader) > 88:\n",
        "    break"
      ]
    },
    {
      "cell_type": "code",
      "execution_count": 11,
      "metadata": {
        "id": "N0VIO5Zsq_C_",
        "colab": {
          "base_uri": "https://localhost:8080/",
          "height": 297
        },
        "outputId": "36201a06-31f5-47f5-8a1b-209fd0d6f0b9"
      },
      "outputs": [
        {
          "output_type": "execute_result",
          "data": {
            "text/plain": [
              "<matplotlib.legend.Legend at 0x7f04754a0ed0>"
            ]
          },
          "metadata": {},
          "execution_count": 11
        },
        {
          "output_type": "display_data",
          "data": {
            "text/plain": [
              "<Figure size 432x288 with 1 Axes>"
            ],
            "image/png": "[encoded data removed]"
          },
          "metadata": {
            "needs_background": "light"
          }
        }
      ],
      "source": [
        "plt.plot(range(len(train_loss_history)),train_loss_history,'-',linewidth=3,label='Train error')\n",
        "plt.plot(range(len(test_loss_history)),test_loss_history,'-',linewidth=3,label='Test error')\n",
        "plt.xlabel('epoch')\n",
        "plt.ylabel('loss')\n",
        "plt.grid(True)\n",
        "plt.legend()"
      ]
    },
    {
      "cell_type": "code",
      "execution_count": 12,
      "metadata": {
        "id": "rfK8nYApq_gq",
        "colab": {
          "base_uri": "https://localhost:8080/",
          "height": 297
        },
        "outputId": "61344c7d-c325-4741-a32c-efb91d50d468"
      },
      "outputs": [
        {
          "output_type": "execute_result",
          "data": {
            "text/plain": [
              "<matplotlib.legend.Legend at 0x7f047529ab10>"
            ]
          },
          "metadata": {},
          "execution_count": 12
        },
        {
          "output_type": "display_data",
          "data": {
            "text/plain": [
              "<Figure size 432x288 with 1 Axes>"
            ],
            "image/png": "[encoded data removed]"
          },
          "metadata": {
            "needs_background": "light"
          }
        }
      ],
      "source": [
        "plt.plot(range(len(train_acc_history)),train_acc_history,'-',linewidth=3,label='Train accuracy')\n",
        "plt.plot(range(len(test_acc_history)),test_acc_history,'-',linewidth=3,label='Test accuracy')\n",
        "plt.xlabel('epoch')\n",
        "plt.ylabel('accuracy')\n",
        "plt.grid(True)\n",
        "plt.legend()"
      ]
    },
    {
      "cell_type": "code",
      "source": [
        ""
      ],
      "metadata": {
        "id": "F62_enA7x3yD"
      },
      "execution_count": null,
      "outputs": []
    }
  ],
  "metadata": {
    "accelerator": "GPU",
    "colab": {
      "collapsed_sections": [],
      "name": "resnet.ipynb",
      "provenance": []
    },
    "kernelspec": {
      "display_name": "Python 3 (ipykernel)",
      "language": "python",
      "name": "python3"
    },
    "language_info": {
      "codemirror_mode": {
        "name": "ipython",
        "version": 3
      },
      "file_extension": ".py",
      "mimetype": "text/x-python",
      "name": "python",
      "nbconvert_exporter": "python",
      "pygments_lexer": "ipython3",
      "version": "3.9.7"
    }
  },
  "nbformat": 4,
  "nbformat_minor": 0
}