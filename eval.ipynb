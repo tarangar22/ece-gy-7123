{
  "nbformat": 4,
  "nbformat_minor": 0,
  "metadata": {
    "colab": {
      "name": "eval.ipynb",
      "provenance": [],
      "collapsed_sections": [],
      "authorship_tag": "ABX9TyM81x/pVkxRICow4h9Of9XX"
    },
    "kernelspec": {
      "name": "python3",
      "display_name": "Python 3"
    },
    "language_info": {
      "name": "python"
    }
  },
  "cells": [
    {
      "cell_type": "code",
      "execution_count": 1,
      "metadata": {
        "colab": {
          "base_uri": "https://localhost:8080/"
        },
        "id": "Tel1I8G0mqdd",
        "outputId": "0f69fdab-bf4d-4c1c-812e-8efe8b5a42cd"
      },
      "outputs": [
        {
          "output_type": "stream",
          "name": "stdout",
          "text": [
            "Mounted at mount/\n",
            "cpu\n"
          ]
        }
      ],
      "source": [
        "from google.colab import drive\n",
        "import torch\n",
        "\n",
        "drive.mount('mount/')\n",
        "device = torch.device(\"cuda:0\" if (torch.cuda.is_available()) else \"cpu\")\n",
        "print(device)"
      ]
    },
    {
      "cell_type": "code",
      "source": [
        "from torch.utils.data import Dataset\n",
        "import os\n",
        "\n",
        "class AudioMNIST(Dataset):\n",
        "  def __init__(self, wav, mask):\n",
        "    self.wav = wav # wave path\n",
        "    self.mask = mask # mask path\n",
        "    self.len = len(os.listdir(self.wav))\n",
        "\n",
        "  def __getitem__(self, index):\n",
        "    ls_wav = sorted(os.listdir(self.wav))\n",
        "    ls_mask = sorted(os.listdir(self.mask))\n",
        "\n",
        "    wav_file_path = os.path.join(self.wav, ls_wav[index])\n",
        "    wav_tensor = torch.load(wav_file_path)\n",
        "\n",
        "    mask_file_path = os.path.join(self.mask, ls_mask[index])\n",
        "    mask_tensor = torch.load(mask_file_path)\n",
        "\n",
        "    return wav_tensor, mask_tensor\n",
        "\n",
        "  def __len__(self):\n",
        "    return self.len  \n",
        "\n",
        "test = AudioMNIST('mount/MyDrive/audiomnist/test/wav/', 'mount/MyDrive/audiomnist/test/mask/')"
      ],
      "metadata": {
        "id": "Qv8kUkhXmwIF"
      },
      "execution_count": 2,
      "outputs": []
    },
    {
      "cell_type": "code",
      "source": [
        "import random\n",
        "import torch.nn.functional as F\n",
        "\n",
        "batch_size = 8\n",
        "\n",
        "testdataloader = torch.utils.data.DataLoader(test, batch_size=batch_size, shuffle=True)"
      ],
      "metadata": {
        "id": "ETarWiEWm_nw"
      },
      "execution_count": 3,
      "outputs": []
    },
    {
      "cell_type": "code",
      "source": [
        "import matplotlib.pyplot as plt\n",
        "import numpy as np\n",
        "from matplotlib import cm\n",
        "\n",
        "fig, ax = plt.subplots()\n",
        "print(test[0][0].size())\n",
        "mfcc_data= np.swapaxes(test[0][0].squeeze().numpy(), 0 ,1)\n",
        "cax = ax.imshow(mfcc_data, interpolation='nearest', cmap=cm.coolwarm, origin='lower')\n",
        "ax.set_title('MFCC')\n",
        "plt.show()\n",
        "print(test[0][1])"
      ],
      "metadata": {
        "colab": {
          "base_uri": "https://localhost:8080/",
          "height": 317
        },
        "id": "gg7OLedonGki",
        "outputId": "cd249deb-bd97-43ce-a29b-a85a51ca9edf"
      },
      "execution_count": 4,
      "outputs": [
        {
          "output_type": "stream",
          "name": "stdout",
          "text": [
            "torch.Size([17, 13, 1])\n"
          ]
        },
        {
          "output_type": "display_data",
          "data": {
            "text/plain": [
              "<Figure size 432x288 with 1 Axes>"
            ],
            "image/png": "[encoded data removed]"
          },
          "metadata": {
            "needs_background": "light"
          }
        },
        {
          "output_type": "stream",
          "name": "stdout",
          "text": [
            "7\n"
          ]
        }
      ]
    },
    {
      "cell_type": "code",
      "source": [
        "class Encoder(torch.nn.Module):\n",
        "    def __init__(self, input_size, hidden_size):\n",
        "        super(Encoder, self).__init__()\n",
        "        self.hidden_size = hidden_size\n",
        "        self.embedding = torch.nn.Embedding(input_size, self.hidden_size)\n",
        "        self.gru = torch.nn.GRU(input_size, self.hidden_size, batch_first=True, bidirectional=True)\n",
        "        self.lin = torch.nn.Sequential(torch.nn.Linear(2*self.hidden_size, int(0.25*self.hidden_size)),\n",
        "                                    torch.nn.LeakyReLU(0.2, inplace=False),\n",
        "                                    torch.nn.Linear(int(0.25*self.hidden_size), int(0.0625*self.hidden_size)),\n",
        "                                    torch.nn.LeakyReLU(0.2, inplace=False),\n",
        "                                    torch.nn.Linear(int(0.0625*self.hidden_size), 10))\n",
        "\n",
        "    def forward(self, input):\n",
        "        latent, hidden = self.gru(input)\n",
        "        latent = latent[:, -1, :]\n",
        "        output = self.lin(latent)\n",
        "        return output\n",
        "\n",
        "hidden_size = 128\n",
        "n_mfcc = 13\n",
        "\n",
        "encoder = Encoder(n_mfcc, hidden_size).to(device)\n",
        "encoder.load_state_dict(torch.load('mount/MyDrive/encoder.pt', map_location=device))"
      ],
      "metadata": {
        "colab": {
          "base_uri": "https://localhost:8080/"
        },
        "id": "WmGoBkCXnK-l",
        "outputId": "43817bcc-4288-466d-fe34-e28e08cbffb4"
      },
      "execution_count": 7,
      "outputs": [
        {
          "output_type": "execute_result",
          "data": {
            "text/plain": [
              "<All keys matched successfully>"
            ]
          },
          "metadata": {},
          "execution_count": 7
        }
      ]
    },
    {
      "cell_type": "code",
      "source": [
        "# channel\n",
        "nc = 1\n",
        "# latent vector\n",
        "nz = 128\n",
        "# generator feature maps\n",
        "ngf = 64\n",
        "# discriminator feature map\n",
        "ndf = 64\n",
        "# gpu\n",
        "ngpu = 1\n",
        "# class\n",
        "n_classes = 10"
      ],
      "metadata": {
        "id": "C1I39JHvpwI2"
      },
      "execution_count": 8,
      "outputs": []
    },
    {
      "cell_type": "code",
      "source": [
        "class Generator(torch.nn.Module):\n",
        "    def __init__(self, ngpu):\n",
        "        super(Generator, self).__init__()\n",
        "        self.ngpu = ngpu\n",
        "        self.label_cg = torch.nn.Sequential(torch.nn.Embedding(n_classes, 100),\n",
        "                      torch.nn.Linear(100, 16))  \n",
        "\n",
        "        self.latent = torch.nn.Sequential(torch.nn.Linear(nz, 1*1*1024),\n",
        "                                    torch.nn.LeakyReLU(0.2, inplace=False))\n",
        "\n",
        "        self.main = torch.nn.Sequential(\n",
        "            torch.nn.ConvTranspose2d(1040, ngf * 8, 4, 1, 0, bias=False), # 4, 4\n",
        "            torch.nn.BatchNorm2d(ngf * 8),\n",
        "            torch.nn.LeakyReLU(0.2, inplace=False),\n",
        "            torch.nn.ConvTranspose2d(ngf * 8, ngf * 4, 4, 2, 1, bias=False), # 8, 8\n",
        "            torch.nn.BatchNorm2d(ngf * 4),\n",
        "            torch.nn.LeakyReLU(0.2, inplace=False),\n",
        "            torch.nn.ConvTranspose2d(ngf * 4, ngf * 2, 4, 2, 1, bias=False), # 16, 16\n",
        "            torch.nn.BatchNorm2d(ngf * 2),\n",
        "            torch.nn.LeakyReLU(0.2, inplace=False),\n",
        "            torch.nn.ConvTranspose2d(ngf * 2, ngf, 4, 2, 1, bias=False), # 32, 32\n",
        "            torch.nn.BatchNorm2d(ngf),\n",
        "            torch.nn.LeakyReLU(0.2, inplace=False),\n",
        "            torch.nn.ConvTranspose2d(ngf, nc, 4, 2, 1, bias=False), # 64, 64\n",
        "            torch.nn.Tanh()\n",
        "        )\n",
        "\n",
        "    def forward(self, latent, label):\n",
        "        label = self.label_cg(label)\n",
        "        label = label.view(-1, 16, 1, 1)\n",
        "        latent = self.latent(latent)\n",
        "        latent = latent.view(-1, 1024, 1, 1)\n",
        "        concat = torch.cat((latent, label), dim=1)\n",
        "        return self.main(concat)\n",
        "\n",
        "#if (device.type == 'cuda') and (ngpu > 1):\n",
        "    #netG = nn.DataParallel(netG, list(range(ngpu)))\n",
        "\n",
        "netG = Generator(ngpu).to(device)\n",
        "netG.load_state_dict(torch.load('mount/MyDrive/gen.pt', map_location=device))"
      ],
      "metadata": {
        "colab": {
          "base_uri": "https://localhost:8080/"
        },
        "id": "QdSffVwqnoFE",
        "outputId": "e13cf2bf-e1ae-4a35-a66f-285f87d44b5d"
      },
      "execution_count": 9,
      "outputs": [
        {
          "output_type": "execute_result",
          "data": {
            "text/plain": [
              "<All keys matched successfully>"
            ]
          },
          "metadata": {},
          "execution_count": 9
        }
      ]
    },
    {
      "cell_type": "code",
      "source": [
        "import torchvision as tv\n",
        "import matplotlib.pyplot as plt\n",
        "import numpy as np\n",
        "\n",
        "def plot(img):\n",
        "    plt.style.use('dark_background')\n",
        "    plt.subplot(1,2,2)\n",
        "    plt.axis(\"off\")\n",
        "    plt.title(\"fake images\")\n",
        "    plt.imshow(np.transpose(img.cpu(),(1,2,0)))\n",
        "    plt.show()"
      ],
      "metadata": {
        "id": "NBzcpS91pJi0"
      },
      "execution_count": 10,
      "outputs": []
    },
    {
      "cell_type": "code",
      "source": [
        "wav, tag = next(iter(testdataloader))\n",
        "noise = torch.randn(8, nz).to(device)\n",
        "pred = encoder(wav.squeeze())\n",
        "fake = netG(noise, torch.argmax(pred, dim=1))\n",
        "print(\"predicted class: \", torch.argmax(pred, dim=1), \"\\nlabel: \", tag)\n",
        "plot(tv.utils.make_grid(fake[:8], padding=2, normalize=True).cpu())"
      ],
      "metadata": {
        "colab": {
          "base_uri": "https://localhost:8080/",
          "height": 102
        },
        "id": "ksyBzPXDoAy1",
        "outputId": "cedded78-30d3-4bda-d4b9-c7e2d7ff7d21"
      },
      "execution_count": 21,
      "outputs": [
        {
          "output_type": "stream",
          "name": "stdout",
          "text": [
            "predicted class:  tensor([8, 5, 9, 4, 0, 5, 2, 1]) \n",
            "label:  tensor([8, 5, 9, 4, 0, 5, 2, 1])\n"
          ]
        },
        {
          "output_type": "display_data",
          "data": {
            "text/plain": [
              "<Figure size 432x288 with 1 Axes>"
            ],
            "image/png": "[encoded data removed]"
          },
          "metadata": {}
        }
      ]
    },
    {
      "cell_type": "code",
      "source": [
        ""
      ],
      "metadata": {
        "id": "G4QlLaEUrHHA"
      },
      "execution_count": null,
      "outputs": []
    }
  ]
}